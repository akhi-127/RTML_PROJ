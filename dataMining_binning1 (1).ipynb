{
  "cells": [
    {
      "cell_type": "code",
      "execution_count": 1,
      "metadata": {
        "id": "iBYNYDPAqzOb"
      },
      "outputs": [],
      "source": [
        "import pandas as pd\n",
        "import numpy as np\n",
        "import matplotlib.pyplot as plt\n",
        "import seaborn as sns\n",
        "from scipy.stats import zscore"
      ]
    },
    {
      "cell_type": "code",
      "source": [
        "from google.colab import files\n",
        "\n",
        "\n",
        "uploaded = files.upload()\n"
      ],
      "metadata": {
        "colab": {
          "base_uri": "https://localhost:8080/",
          "height": 73
        },
        "id": "C7dr0s8tr9HB",
        "outputId": "98f9e877-97e0-4636-ad37-1c8ceeb35a99"
      },
      "execution_count": 2,
      "outputs": [
        {
          "output_type": "display_data",
          "data": {
            "text/plain": [
              "<IPython.core.display.HTML object>"
            ],
            "text/html": [
              "\n",
              "     <input type=\"file\" id=\"files-7f5d41b6-44df-4238-8858-67213bdc2e92\" name=\"files[]\" multiple disabled\n",
              "        style=\"border:none\" />\n",
              "     <output id=\"result-7f5d41b6-44df-4238-8858-67213bdc2e92\">\n",
              "      Upload widget is only available when the cell has been executed in the\n",
              "      current browser session. Please rerun this cell to enable.\n",
              "      </output>\n",
              "      <script>// Copyright 2017 Google LLC\n",
              "//\n",
              "// Licensed under the Apache License, Version 2.0 (the \"License\");\n",
              "// you may not use this file except in compliance with the License.\n",
              "// You may obtain a copy of the License at\n",
              "//\n",
              "//      http://www.apache.org/licenses/LICENSE-2.0\n",
              "//\n",
              "// Unless required by applicable law or agreed to in writing, software\n",
              "// distributed under the License is distributed on an \"AS IS\" BASIS,\n",
              "// WITHOUT WARRANTIES OR CONDITIONS OF ANY KIND, either express or implied.\n",
              "// See the License for the specific language governing permissions and\n",
              "// limitations under the License.\n",
              "\n",
              "/**\n",
              " * @fileoverview Helpers for google.colab Python module.\n",
              " */\n",
              "(function(scope) {\n",
              "function span(text, styleAttributes = {}) {\n",
              "  const element = document.createElement('span');\n",
              "  element.textContent = text;\n",
              "  for (const key of Object.keys(styleAttributes)) {\n",
              "    element.style[key] = styleAttributes[key];\n",
              "  }\n",
              "  return element;\n",
              "}\n",
              "\n",
              "// Max number of bytes which will be uploaded at a time.\n",
              "const MAX_PAYLOAD_SIZE = 100 * 1024;\n",
              "\n",
              "function _uploadFiles(inputId, outputId) {\n",
              "  const steps = uploadFilesStep(inputId, outputId);\n",
              "  const outputElement = document.getElementById(outputId);\n",
              "  // Cache steps on the outputElement to make it available for the next call\n",
              "  // to uploadFilesContinue from Python.\n",
              "  outputElement.steps = steps;\n",
              "\n",
              "  return _uploadFilesContinue(outputId);\n",
              "}\n",
              "\n",
              "// This is roughly an async generator (not supported in the browser yet),\n",
              "// where there are multiple asynchronous steps and the Python side is going\n",
              "// to poll for completion of each step.\n",
              "// This uses a Promise to block the python side on completion of each step,\n",
              "// then passes the result of the previous step as the input to the next step.\n",
              "function _uploadFilesContinue(outputId) {\n",
              "  const outputElement = document.getElementById(outputId);\n",
              "  const steps = outputElement.steps;\n",
              "\n",
              "  const next = steps.next(outputElement.lastPromiseValue);\n",
              "  return Promise.resolve(next.value.promise).then((value) => {\n",
              "    // Cache the last promise value to make it available to the next\n",
              "    // step of the generator.\n",
              "    outputElement.lastPromiseValue = value;\n",
              "    return next.value.response;\n",
              "  });\n",
              "}\n",
              "\n",
              "/**\n",
              " * Generator function which is called between each async step of the upload\n",
              " * process.\n",
              " * @param {string} inputId Element ID of the input file picker element.\n",
              " * @param {string} outputId Element ID of the output display.\n",
              " * @return {!Iterable<!Object>} Iterable of next steps.\n",
              " */\n",
              "function* uploadFilesStep(inputId, outputId) {\n",
              "  const inputElement = document.getElementById(inputId);\n",
              "  inputElement.disabled = false;\n",
              "\n",
              "  const outputElement = document.getElementById(outputId);\n",
              "  outputElement.innerHTML = '';\n",
              "\n",
              "  const pickedPromise = new Promise((resolve) => {\n",
              "    inputElement.addEventListener('change', (e) => {\n",
              "      resolve(e.target.files);\n",
              "    });\n",
              "  });\n",
              "\n",
              "  const cancel = document.createElement('button');\n",
              "  inputElement.parentElement.appendChild(cancel);\n",
              "  cancel.textContent = 'Cancel upload';\n",
              "  const cancelPromise = new Promise((resolve) => {\n",
              "    cancel.onclick = () => {\n",
              "      resolve(null);\n",
              "    };\n",
              "  });\n",
              "\n",
              "  // Wait for the user to pick the files.\n",
              "  const files = yield {\n",
              "    promise: Promise.race([pickedPromise, cancelPromise]),\n",
              "    response: {\n",
              "      action: 'starting',\n",
              "    }\n",
              "  };\n",
              "\n",
              "  cancel.remove();\n",
              "\n",
              "  // Disable the input element since further picks are not allowed.\n",
              "  inputElement.disabled = true;\n",
              "\n",
              "  if (!files) {\n",
              "    return {\n",
              "      response: {\n",
              "        action: 'complete',\n",
              "      }\n",
              "    };\n",
              "  }\n",
              "\n",
              "  for (const file of files) {\n",
              "    const li = document.createElement('li');\n",
              "    li.append(span(file.name, {fontWeight: 'bold'}));\n",
              "    li.append(span(\n",
              "        `(${file.type || 'n/a'}) - ${file.size} bytes, ` +\n",
              "        `last modified: ${\n",
              "            file.lastModifiedDate ? file.lastModifiedDate.toLocaleDateString() :\n",
              "                                    'n/a'} - `));\n",
              "    const percent = span('0% done');\n",
              "    li.appendChild(percent);\n",
              "\n",
              "    outputElement.appendChild(li);\n",
              "\n",
              "    const fileDataPromise = new Promise((resolve) => {\n",
              "      const reader = new FileReader();\n",
              "      reader.onload = (e) => {\n",
              "        resolve(e.target.result);\n",
              "      };\n",
              "      reader.readAsArrayBuffer(file);\n",
              "    });\n",
              "    // Wait for the data to be ready.\n",
              "    let fileData = yield {\n",
              "      promise: fileDataPromise,\n",
              "      response: {\n",
              "        action: 'continue',\n",
              "      }\n",
              "    };\n",
              "\n",
              "    // Use a chunked sending to avoid message size limits. See b/62115660.\n",
              "    let position = 0;\n",
              "    do {\n",
              "      const length = Math.min(fileData.byteLength - position, MAX_PAYLOAD_SIZE);\n",
              "      const chunk = new Uint8Array(fileData, position, length);\n",
              "      position += length;\n",
              "\n",
              "      const base64 = btoa(String.fromCharCode.apply(null, chunk));\n",
              "      yield {\n",
              "        response: {\n",
              "          action: 'append',\n",
              "          file: file.name,\n",
              "          data: base64,\n",
              "        },\n",
              "      };\n",
              "\n",
              "      let percentDone = fileData.byteLength === 0 ?\n",
              "          100 :\n",
              "          Math.round((position / fileData.byteLength) * 100);\n",
              "      percent.textContent = `${percentDone}% done`;\n",
              "\n",
              "    } while (position < fileData.byteLength);\n",
              "  }\n",
              "\n",
              "  // All done.\n",
              "  yield {\n",
              "    response: {\n",
              "      action: 'complete',\n",
              "    }\n",
              "  };\n",
              "}\n",
              "\n",
              "scope.google = scope.google || {};\n",
              "scope.google.colab = scope.google.colab || {};\n",
              "scope.google.colab._files = {\n",
              "  _uploadFiles,\n",
              "  _uploadFilesContinue,\n",
              "};\n",
              "})(self);\n",
              "</script> "
            ]
          },
          "metadata": {}
        },
        {
          "output_type": "stream",
          "name": "stdout",
          "text": [
            "Saving ISP_One_Attrition_Data_file.csv to ISP_One_Attrition_Data_file.csv\n"
          ]
        }
      ]
    },
    {
      "cell_type": "code",
      "execution_count": 3,
      "metadata": {
        "id": "be55Ab17qzOh"
      },
      "outputs": [],
      "source": [
        "df=pd.read_csv('ISP_One_Attrition_Data_file.csv')"
      ]
    },
    {
      "cell_type": "markdown",
      "metadata": {
        "id": "AzYq6AVqqzOi"
      },
      "source": [
        "# Exploratory Data Analysis"
      ]
    },
    {
      "cell_type": "code",
      "execution_count": 4,
      "metadata": {
        "colab": {
          "base_uri": "https://localhost:8080/",
          "height": 206
        },
        "id": "BPf2_dJFqzOl",
        "outputId": "f5b740ad-e5c5-4c08-f9c6-40ae147c4bfb"
      },
      "outputs": [
        {
          "output_type": "execute_result",
          "data": {
            "text/plain": [
              "   active_cust  income  expenditure  months_on_network  Num_complaints  \\\n",
              "0            0    1586       1268.8                 85               4   \n",
              "1            0    1581       1264.8                 85               4   \n",
              "2            0    1594       1275.2                 82               4   \n",
              "3            0    1594       1275.2                 82               4   \n",
              "4            1    1609       1287.2                 80               4   \n",
              "\n",
              "   number_plan_changes  relocated  monthly_bill  technical_issues_per_month  \\\n",
              "0                    1          0           121                           4   \n",
              "1                    1          0           133                           4   \n",
              "2                    1          0           118                           4   \n",
              "3                    1          0           123                           4   \n",
              "4                    1          0           177                           4   \n",
              "\n",
              "   Speed_test_result  \n",
              "0                 85  \n",
              "1                 85  \n",
              "2                 85  \n",
              "3                 85  \n",
              "4                 85  "
            ],
            "text/html": [
              "\n",
              "  <div id=\"df-f6fababf-7a7b-4a59-899d-d0a7070ba694\">\n",
              "    <div class=\"colab-df-container\">\n",
              "      <div>\n",
              "<style scoped>\n",
              "    .dataframe tbody tr th:only-of-type {\n",
              "        vertical-align: middle;\n",
              "    }\n",
              "\n",
              "    .dataframe tbody tr th {\n",
              "        vertical-align: top;\n",
              "    }\n",
              "\n",
              "    .dataframe thead th {\n",
              "        text-align: right;\n",
              "    }\n",
              "</style>\n",
              "<table border=\"1\" class=\"dataframe\">\n",
              "  <thead>\n",
              "    <tr style=\"text-align: right;\">\n",
              "      <th></th>\n",
              "      <th>active_cust</th>\n",
              "      <th>income</th>\n",
              "      <th>expenditure</th>\n",
              "      <th>months_on_network</th>\n",
              "      <th>Num_complaints</th>\n",
              "      <th>number_plan_changes</th>\n",
              "      <th>relocated</th>\n",
              "      <th>monthly_bill</th>\n",
              "      <th>technical_issues_per_month</th>\n",
              "      <th>Speed_test_result</th>\n",
              "    </tr>\n",
              "  </thead>\n",
              "  <tbody>\n",
              "    <tr>\n",
              "      <th>0</th>\n",
              "      <td>0</td>\n",
              "      <td>1586</td>\n",
              "      <td>1268.8</td>\n",
              "      <td>85</td>\n",
              "      <td>4</td>\n",
              "      <td>1</td>\n",
              "      <td>0</td>\n",
              "      <td>121</td>\n",
              "      <td>4</td>\n",
              "      <td>85</td>\n",
              "    </tr>\n",
              "    <tr>\n",
              "      <th>1</th>\n",
              "      <td>0</td>\n",
              "      <td>1581</td>\n",
              "      <td>1264.8</td>\n",
              "      <td>85</td>\n",
              "      <td>4</td>\n",
              "      <td>1</td>\n",
              "      <td>0</td>\n",
              "      <td>133</td>\n",
              "      <td>4</td>\n",
              "      <td>85</td>\n",
              "    </tr>\n",
              "    <tr>\n",
              "      <th>2</th>\n",
              "      <td>0</td>\n",
              "      <td>1594</td>\n",
              "      <td>1275.2</td>\n",
              "      <td>82</td>\n",
              "      <td>4</td>\n",
              "      <td>1</td>\n",
              "      <td>0</td>\n",
              "      <td>118</td>\n",
              "      <td>4</td>\n",
              "      <td>85</td>\n",
              "    </tr>\n",
              "    <tr>\n",
              "      <th>3</th>\n",
              "      <td>0</td>\n",
              "      <td>1594</td>\n",
              "      <td>1275.2</td>\n",
              "      <td>82</td>\n",
              "      <td>4</td>\n",
              "      <td>1</td>\n",
              "      <td>0</td>\n",
              "      <td>123</td>\n",
              "      <td>4</td>\n",
              "      <td>85</td>\n",
              "    </tr>\n",
              "    <tr>\n",
              "      <th>4</th>\n",
              "      <td>1</td>\n",
              "      <td>1609</td>\n",
              "      <td>1287.2</td>\n",
              "      <td>80</td>\n",
              "      <td>4</td>\n",
              "      <td>1</td>\n",
              "      <td>0</td>\n",
              "      <td>177</td>\n",
              "      <td>4</td>\n",
              "      <td>85</td>\n",
              "    </tr>\n",
              "  </tbody>\n",
              "</table>\n",
              "</div>\n",
              "      <button class=\"colab-df-convert\" onclick=\"convertToInteractive('df-f6fababf-7a7b-4a59-899d-d0a7070ba694')\"\n",
              "              title=\"Convert this dataframe to an interactive table.\"\n",
              "              style=\"display:none;\">\n",
              "        \n",
              "  <svg xmlns=\"http://www.w3.org/2000/svg\" height=\"24px\"viewBox=\"0 0 24 24\"\n",
              "       width=\"24px\">\n",
              "    <path d=\"M0 0h24v24H0V0z\" fill=\"none\"/>\n",
              "    <path d=\"M18.56 5.44l.94 2.06.94-2.06 2.06-.94-2.06-.94-.94-2.06-.94 2.06-2.06.94zm-11 1L8.5 8.5l.94-2.06 2.06-.94-2.06-.94L8.5 2.5l-.94 2.06-2.06.94zm10 10l.94 2.06.94-2.06 2.06-.94-2.06-.94-.94-2.06-.94 2.06-2.06.94z\"/><path d=\"M17.41 7.96l-1.37-1.37c-.4-.4-.92-.59-1.43-.59-.52 0-1.04.2-1.43.59L10.3 9.45l-7.72 7.72c-.78.78-.78 2.05 0 2.83L4 21.41c.39.39.9.59 1.41.59.51 0 1.02-.2 1.41-.59l7.78-7.78 2.81-2.81c.8-.78.8-2.07 0-2.86zM5.41 20L4 18.59l7.72-7.72 1.47 1.35L5.41 20z\"/>\n",
              "  </svg>\n",
              "      </button>\n",
              "      \n",
              "  <style>\n",
              "    .colab-df-container {\n",
              "      display:flex;\n",
              "      flex-wrap:wrap;\n",
              "      gap: 12px;\n",
              "    }\n",
              "\n",
              "    .colab-df-convert {\n",
              "      background-color: #E8F0FE;\n",
              "      border: none;\n",
              "      border-radius: 50%;\n",
              "      cursor: pointer;\n",
              "      display: none;\n",
              "      fill: #1967D2;\n",
              "      height: 32px;\n",
              "      padding: 0 0 0 0;\n",
              "      width: 32px;\n",
              "    }\n",
              "\n",
              "    .colab-df-convert:hover {\n",
              "      background-color: #E2EBFA;\n",
              "      box-shadow: 0px 1px 2px rgba(60, 64, 67, 0.3), 0px 1px 3px 1px rgba(60, 64, 67, 0.15);\n",
              "      fill: #174EA6;\n",
              "    }\n",
              "\n",
              "    [theme=dark] .colab-df-convert {\n",
              "      background-color: #3B4455;\n",
              "      fill: #D2E3FC;\n",
              "    }\n",
              "\n",
              "    [theme=dark] .colab-df-convert:hover {\n",
              "      background-color: #434B5C;\n",
              "      box-shadow: 0px 1px 3px 1px rgba(0, 0, 0, 0.15);\n",
              "      filter: drop-shadow(0px 1px 2px rgba(0, 0, 0, 0.3));\n",
              "      fill: #FFFFFF;\n",
              "    }\n",
              "  </style>\n",
              "\n",
              "      <script>\n",
              "        const buttonEl =\n",
              "          document.querySelector('#df-f6fababf-7a7b-4a59-899d-d0a7070ba694 button.colab-df-convert');\n",
              "        buttonEl.style.display =\n",
              "          google.colab.kernel.accessAllowed ? 'block' : 'none';\n",
              "\n",
              "        async function convertToInteractive(key) {\n",
              "          const element = document.querySelector('#df-f6fababf-7a7b-4a59-899d-d0a7070ba694');\n",
              "          const dataTable =\n",
              "            await google.colab.kernel.invokeFunction('convertToInteractive',\n",
              "                                                     [key], {});\n",
              "          if (!dataTable) return;\n",
              "\n",
              "          const docLinkHtml = 'Like what you see? Visit the ' +\n",
              "            '<a target=\"_blank\" href=https://colab.research.google.com/notebooks/data_table.ipynb>data table notebook</a>'\n",
              "            + ' to learn more about interactive tables.';\n",
              "          element.innerHTML = '';\n",
              "          dataTable['output_type'] = 'display_data';\n",
              "          await google.colab.output.renderOutput(dataTable, element);\n",
              "          const docLink = document.createElement('div');\n",
              "          docLink.innerHTML = docLinkHtml;\n",
              "          element.appendChild(docLink);\n",
              "        }\n",
              "      </script>\n",
              "    </div>\n",
              "  </div>\n",
              "  "
            ]
          },
          "metadata": {},
          "execution_count": 4
        }
      ],
      "source": [
        "df.head()"
      ]
    },
    {
      "cell_type": "markdown",
      "metadata": {
        "id": "pX7KGn7CqzOo"
      },
      "source": [
        "# Describe the columns to see the distrubution and count"
      ]
    },
    {
      "cell_type": "code",
      "execution_count": 5,
      "metadata": {
        "colab": {
          "base_uri": "https://localhost:8080/"
        },
        "id": "bsFz5Ih_qzOp",
        "outputId": "26174178-c3e7-434a-9a30-ff00f4e7f57f"
      },
      "outputs": [
        {
          "output_type": "stream",
          "name": "stdout",
          "text": [
            "<class 'pandas.core.frame.DataFrame'>\n",
            "RangeIndex: 100000 entries, 0 to 99999\n",
            "Data columns (total 10 columns):\n",
            " #   Column                      Non-Null Count   Dtype  \n",
            "---  ------                      --------------   -----  \n",
            " 0   active_cust                 100000 non-null  int64  \n",
            " 1   income                      100000 non-null  int64  \n",
            " 2   expenditure                 100000 non-null  float64\n",
            " 3   months_on_network           100000 non-null  int64  \n",
            " 4   Num_complaints              100000 non-null  int64  \n",
            " 5   number_plan_changes         100000 non-null  int64  \n",
            " 6   relocated                   100000 non-null  int64  \n",
            " 7   monthly_bill                100000 non-null  int64  \n",
            " 8   technical_issues_per_month  100000 non-null  int64  \n",
            " 9   Speed_test_result           100000 non-null  int64  \n",
            "dtypes: float64(1), int64(9)\n",
            "memory usage: 7.6 MB\n"
          ]
        },
        {
          "output_type": "execute_result",
          "data": {
            "text/plain": [
              "active_cust                   0\n",
              "income                        0\n",
              "expenditure                   0\n",
              "months_on_network             0\n",
              "Num_complaints                0\n",
              "number_plan_changes           0\n",
              "relocated                     0\n",
              "monthly_bill                  0\n",
              "technical_issues_per_month    0\n",
              "Speed_test_result             0\n",
              "dtype: int64"
            ]
          },
          "metadata": {},
          "execution_count": 5
        }
      ],
      "source": [
        "df.info()\n",
        "df.isnull().sum()"
      ]
    },
    {
      "cell_type": "code",
      "execution_count": 6,
      "metadata": {
        "colab": {
          "base_uri": "https://localhost:8080/",
          "height": 300
        },
        "id": "XEsqIBlaqzOr",
        "outputId": "64649016-7d94-4d5a-b859-30210216dfa6"
      },
      "outputs": [
        {
          "output_type": "execute_result",
          "data": {
            "text/plain": [
              "         active_cust         income    expenditure  months_on_network  \\\n",
              "count  100000.000000  100000.000000  100000.000000      100000.000000   \n",
              "mean        0.578590    1855.279910    1409.669662          58.402450   \n",
              "std         0.493787    2712.385257    2174.330870          18.643736   \n",
              "min         0.000000    1130.000000     904.000000         -20.000000   \n",
              "25%         0.000000    1674.000000    1248.650000          47.000000   \n",
              "50%         1.000000    1805.000000    1358.400000          56.000000   \n",
              "75%         1.000000    1907.000000    1494.400000          70.000000   \n",
              "max         1.000000  229821.000000  183856.800000         449.000000   \n",
              "\n",
              "       Num_complaints  number_plan_changes      relocated   monthly_bill  \\\n",
              "count   100000.000000        100000.000000  100000.000000  100000.000000   \n",
              "mean         4.012840             1.385410       0.123480      95.816450   \n",
              "std          0.285265             1.617101       0.328989      50.161327   \n",
              "min          3.000000             0.000000       0.000000      30.000000   \n",
              "25%          4.000000             0.000000       0.000000      45.000000   \n",
              "50%          4.000000             1.000000       0.000000      87.000000   \n",
              "75%          4.000000             2.000000       0.000000     133.000000   \n",
              "max          6.000000             9.000000       1.000000     181.000000   \n",
              "\n",
              "       technical_issues_per_month  Speed_test_result  \n",
              "count                100000.00000      100000.000000  \n",
              "mean                      3.31673          81.668540  \n",
              "std                       1.24147           9.952554  \n",
              "min                       1.00000          72.000000  \n",
              "25%                       3.00000          78.000000  \n",
              "50%                       4.00000          81.000000  \n",
              "75%                       4.00000          85.000000  \n",
              "max                       7.00000         332.000000  "
            ],
            "text/html": [
              "\n",
              "  <div id=\"df-d66b5473-fb14-49d1-a489-9267ffa12ca4\">\n",
              "    <div class=\"colab-df-container\">\n",
              "      <div>\n",
              "<style scoped>\n",
              "    .dataframe tbody tr th:only-of-type {\n",
              "        vertical-align: middle;\n",
              "    }\n",
              "\n",
              "    .dataframe tbody tr th {\n",
              "        vertical-align: top;\n",
              "    }\n",
              "\n",
              "    .dataframe thead th {\n",
              "        text-align: right;\n",
              "    }\n",
              "</style>\n",
              "<table border=\"1\" class=\"dataframe\">\n",
              "  <thead>\n",
              "    <tr style=\"text-align: right;\">\n",
              "      <th></th>\n",
              "      <th>active_cust</th>\n",
              "      <th>income</th>\n",
              "      <th>expenditure</th>\n",
              "      <th>months_on_network</th>\n",
              "      <th>Num_complaints</th>\n",
              "      <th>number_plan_changes</th>\n",
              "      <th>relocated</th>\n",
              "      <th>monthly_bill</th>\n",
              "      <th>technical_issues_per_month</th>\n",
              "      <th>Speed_test_result</th>\n",
              "    </tr>\n",
              "  </thead>\n",
              "  <tbody>\n",
              "    <tr>\n",
              "      <th>count</th>\n",
              "      <td>100000.000000</td>\n",
              "      <td>100000.000000</td>\n",
              "      <td>100000.000000</td>\n",
              "      <td>100000.000000</td>\n",
              "      <td>100000.000000</td>\n",
              "      <td>100000.000000</td>\n",
              "      <td>100000.000000</td>\n",
              "      <td>100000.000000</td>\n",
              "      <td>100000.00000</td>\n",
              "      <td>100000.000000</td>\n",
              "    </tr>\n",
              "    <tr>\n",
              "      <th>mean</th>\n",
              "      <td>0.578590</td>\n",
              "      <td>1855.279910</td>\n",
              "      <td>1409.669662</td>\n",
              "      <td>58.402450</td>\n",
              "      <td>4.012840</td>\n",
              "      <td>1.385410</td>\n",
              "      <td>0.123480</td>\n",
              "      <td>95.816450</td>\n",
              "      <td>3.31673</td>\n",
              "      <td>81.668540</td>\n",
              "    </tr>\n",
              "    <tr>\n",
              "      <th>std</th>\n",
              "      <td>0.493787</td>\n",
              "      <td>2712.385257</td>\n",
              "      <td>2174.330870</td>\n",
              "      <td>18.643736</td>\n",
              "      <td>0.285265</td>\n",
              "      <td>1.617101</td>\n",
              "      <td>0.328989</td>\n",
              "      <td>50.161327</td>\n",
              "      <td>1.24147</td>\n",
              "      <td>9.952554</td>\n",
              "    </tr>\n",
              "    <tr>\n",
              "      <th>min</th>\n",
              "      <td>0.000000</td>\n",
              "      <td>1130.000000</td>\n",
              "      <td>904.000000</td>\n",
              "      <td>-20.000000</td>\n",
              "      <td>3.000000</td>\n",
              "      <td>0.000000</td>\n",
              "      <td>0.000000</td>\n",
              "      <td>30.000000</td>\n",
              "      <td>1.00000</td>\n",
              "      <td>72.000000</td>\n",
              "    </tr>\n",
              "    <tr>\n",
              "      <th>25%</th>\n",
              "      <td>0.000000</td>\n",
              "      <td>1674.000000</td>\n",
              "      <td>1248.650000</td>\n",
              "      <td>47.000000</td>\n",
              "      <td>4.000000</td>\n",
              "      <td>0.000000</td>\n",
              "      <td>0.000000</td>\n",
              "      <td>45.000000</td>\n",
              "      <td>3.00000</td>\n",
              "      <td>78.000000</td>\n",
              "    </tr>\n",
              "    <tr>\n",
              "      <th>50%</th>\n",
              "      <td>1.000000</td>\n",
              "      <td>1805.000000</td>\n",
              "      <td>1358.400000</td>\n",
              "      <td>56.000000</td>\n",
              "      <td>4.000000</td>\n",
              "      <td>1.000000</td>\n",
              "      <td>0.000000</td>\n",
              "      <td>87.000000</td>\n",
              "      <td>4.00000</td>\n",
              "      <td>81.000000</td>\n",
              "    </tr>\n",
              "    <tr>\n",
              "      <th>75%</th>\n",
              "      <td>1.000000</td>\n",
              "      <td>1907.000000</td>\n",
              "      <td>1494.400000</td>\n",
              "      <td>70.000000</td>\n",
              "      <td>4.000000</td>\n",
              "      <td>2.000000</td>\n",
              "      <td>0.000000</td>\n",
              "      <td>133.000000</td>\n",
              "      <td>4.00000</td>\n",
              "      <td>85.000000</td>\n",
              "    </tr>\n",
              "    <tr>\n",
              "      <th>max</th>\n",
              "      <td>1.000000</td>\n",
              "      <td>229821.000000</td>\n",
              "      <td>183856.800000</td>\n",
              "      <td>449.000000</td>\n",
              "      <td>6.000000</td>\n",
              "      <td>9.000000</td>\n",
              "      <td>1.000000</td>\n",
              "      <td>181.000000</td>\n",
              "      <td>7.00000</td>\n",
              "      <td>332.000000</td>\n",
              "    </tr>\n",
              "  </tbody>\n",
              "</table>\n",
              "</div>\n",
              "      <button class=\"colab-df-convert\" onclick=\"convertToInteractive('df-d66b5473-fb14-49d1-a489-9267ffa12ca4')\"\n",
              "              title=\"Convert this dataframe to an interactive table.\"\n",
              "              style=\"display:none;\">\n",
              "        \n",
              "  <svg xmlns=\"http://www.w3.org/2000/svg\" height=\"24px\"viewBox=\"0 0 24 24\"\n",
              "       width=\"24px\">\n",
              "    <path d=\"M0 0h24v24H0V0z\" fill=\"none\"/>\n",
              "    <path d=\"M18.56 5.44l.94 2.06.94-2.06 2.06-.94-2.06-.94-.94-2.06-.94 2.06-2.06.94zm-11 1L8.5 8.5l.94-2.06 2.06-.94-2.06-.94L8.5 2.5l-.94 2.06-2.06.94zm10 10l.94 2.06.94-2.06 2.06-.94-2.06-.94-.94-2.06-.94 2.06-2.06.94z\"/><path d=\"M17.41 7.96l-1.37-1.37c-.4-.4-.92-.59-1.43-.59-.52 0-1.04.2-1.43.59L10.3 9.45l-7.72 7.72c-.78.78-.78 2.05 0 2.83L4 21.41c.39.39.9.59 1.41.59.51 0 1.02-.2 1.41-.59l7.78-7.78 2.81-2.81c.8-.78.8-2.07 0-2.86zM5.41 20L4 18.59l7.72-7.72 1.47 1.35L5.41 20z\"/>\n",
              "  </svg>\n",
              "      </button>\n",
              "      \n",
              "  <style>\n",
              "    .colab-df-container {\n",
              "      display:flex;\n",
              "      flex-wrap:wrap;\n",
              "      gap: 12px;\n",
              "    }\n",
              "\n",
              "    .colab-df-convert {\n",
              "      background-color: #E8F0FE;\n",
              "      border: none;\n",
              "      border-radius: 50%;\n",
              "      cursor: pointer;\n",
              "      display: none;\n",
              "      fill: #1967D2;\n",
              "      height: 32px;\n",
              "      padding: 0 0 0 0;\n",
              "      width: 32px;\n",
              "    }\n",
              "\n",
              "    .colab-df-convert:hover {\n",
              "      background-color: #E2EBFA;\n",
              "      box-shadow: 0px 1px 2px rgba(60, 64, 67, 0.3), 0px 1px 3px 1px rgba(60, 64, 67, 0.15);\n",
              "      fill: #174EA6;\n",
              "    }\n",
              "\n",
              "    [theme=dark] .colab-df-convert {\n",
              "      background-color: #3B4455;\n",
              "      fill: #D2E3FC;\n",
              "    }\n",
              "\n",
              "    [theme=dark] .colab-df-convert:hover {\n",
              "      background-color: #434B5C;\n",
              "      box-shadow: 0px 1px 3px 1px rgba(0, 0, 0, 0.15);\n",
              "      filter: drop-shadow(0px 1px 2px rgba(0, 0, 0, 0.3));\n",
              "      fill: #FFFFFF;\n",
              "    }\n",
              "  </style>\n",
              "\n",
              "      <script>\n",
              "        const buttonEl =\n",
              "          document.querySelector('#df-d66b5473-fb14-49d1-a489-9267ffa12ca4 button.colab-df-convert');\n",
              "        buttonEl.style.display =\n",
              "          google.colab.kernel.accessAllowed ? 'block' : 'none';\n",
              "\n",
              "        async function convertToInteractive(key) {\n",
              "          const element = document.querySelector('#df-d66b5473-fb14-49d1-a489-9267ffa12ca4');\n",
              "          const dataTable =\n",
              "            await google.colab.kernel.invokeFunction('convertToInteractive',\n",
              "                                                     [key], {});\n",
              "          if (!dataTable) return;\n",
              "\n",
              "          const docLinkHtml = 'Like what you see? Visit the ' +\n",
              "            '<a target=\"_blank\" href=https://colab.research.google.com/notebooks/data_table.ipynb>data table notebook</a>'\n",
              "            + ' to learn more about interactive tables.';\n",
              "          element.innerHTML = '';\n",
              "          dataTable['output_type'] = 'display_data';\n",
              "          await google.colab.output.renderOutput(dataTable, element);\n",
              "          const docLink = document.createElement('div');\n",
              "          docLink.innerHTML = docLinkHtml;\n",
              "          element.appendChild(docLink);\n",
              "        }\n",
              "      </script>\n",
              "    </div>\n",
              "  </div>\n",
              "  "
            ]
          },
          "metadata": {},
          "execution_count": 6
        }
      ],
      "source": [
        "df.describe()"
      ]
    },
    {
      "cell_type": "code",
      "execution_count": 7,
      "metadata": {
        "colab": {
          "base_uri": "https://localhost:8080/"
        },
        "id": "5AVT7e7tqzOs",
        "outputId": "e966f754-3922-4563-91a9-680d84acc4c3"
      },
      "outputs": [
        {
          "output_type": "execute_result",
          "data": {
            "text/plain": [
              "Index(['active_cust', 'income', 'expenditure', 'months_on_network',\n",
              "       'Num_complaints', 'number_plan_changes', 'relocated', 'monthly_bill',\n",
              "       'technical_issues_per_month', 'Speed_test_result'],\n",
              "      dtype='object')"
            ]
          },
          "metadata": {},
          "execution_count": 7
        }
      ],
      "source": [
        "df.columns"
      ]
    },
    {
      "cell_type": "markdown",
      "metadata": {
        "id": "tGzECeQCqzOt"
      },
      "source": [
        "#                                  Outlier Analysis\n",
        "\n",
        "# The below code produces box plots for each column and highlight the outliers"
      ]
    },
    {
      "cell_type": "code",
      "execution_count": 8,
      "metadata": {
        "colab": {
          "base_uri": "https://localhost:8080/",
          "height": 545
        },
        "id": "k8VwTv-2qzOu",
        "outputId": "dc12a197-d37e-438b-e2e8-9b089111af73"
      },
      "outputs": [
        {
          "output_type": "display_data",
          "data": {
            "text/plain": [
              "<Figure size 3000x600 with 4 Axes>"
            ],
            "image/png": "[encoded data removed]"
          },
          "metadata": {}
        }
      ],
      "source": [
        "plt.figure(figsize=(30,6))\n",
        "\n",
        "plt.subplot(1, 6, 1)\n",
        "plt.title('income')\n",
        "sns.boxplot(df['income'],orient='vertical',color='blue')\n",
        "\n",
        "# subplot 2\n",
        "plt.subplot(1, 6, 2)\n",
        "plt.title('months_on_network')\n",
        "sns.boxplot(df['months_on_network'],orient='vertical',color='blue')\n",
        "\n",
        "# subplot 3\n",
        "plt.subplot(1, 6, 3)\n",
        "plt.title('monthly_bill')\n",
        "sns.boxplot(df['monthly_bill'],orient='vertical',color='blue')\n",
        "\n",
        "# subplot 4\n",
        "plt.subplot(1, 6, 4)\n",
        "plt.title('Speed_test_result')\n",
        "sns.boxplot(df['Speed_test_result'],orient='vertical',color='blue')\n",
        "\n",
        "\n",
        "plt.show()"
      ]
    },
    {
      "cell_type": "markdown",
      "metadata": {
        "id": "qxzX8fKTqzOv"
      },
      "source": [
        "# Check the correlation of features"
      ]
    },
    {
      "cell_type": "code",
      "execution_count": 9,
      "metadata": {
        "colab": {
          "base_uri": "https://localhost:8080/",
          "height": 363
        },
        "id": "UworDlvXqzOw",
        "outputId": "269fb7f5-8b9c-4283-9b86-280b4d7f3ac7"
      },
      "outputs": [
        {
          "output_type": "execute_result",
          "data": {
            "text/plain": [
              "                            active_cust    income  expenditure  \\\n",
              "active_cust                    1.000000  0.001201    -0.003939   \n",
              "income                         0.001201  1.000000     0.998436   \n",
              "expenditure                   -0.003939  0.998436     1.000000   \n",
              "months_on_network              0.188113 -0.122607    -0.118989   \n",
              "Num_complaints                -0.083481  0.003102     0.000491   \n",
              "number_plan_changes           -0.283100 -0.003567    -0.007847   \n",
              "relocated                     -0.381069  0.001924     0.001288   \n",
              "monthly_bill                  -0.060156 -0.004715    -0.006006   \n",
              "technical_issues_per_month    -0.260249 -0.002584    -0.005726   \n",
              "Speed_test_result              0.156385  0.010451     0.015505   \n",
              "\n",
              "                            months_on_network  Num_complaints  \\\n",
              "active_cust                          0.188113       -0.083481   \n",
              "income                              -0.122607        0.003102   \n",
              "expenditure                         -0.118989        0.000491   \n",
              "months_on_network                    1.000000       -0.081782   \n",
              "Num_complaints                      -0.081782        1.000000   \n",
              "number_plan_changes                  0.022509        0.073773   \n",
              "relocated                           -0.045471        0.053539   \n",
              "monthly_bill                         0.008030        0.004960   \n",
              "technical_issues_per_month          -0.040707        0.019577   \n",
              "Speed_test_result                    0.020413        0.004148   \n",
              "\n",
              "                            number_plan_changes  relocated  monthly_bill  \\\n",
              "active_cust                           -0.283100  -0.381069     -0.060156   \n",
              "income                                -0.003567   0.001924     -0.004715   \n",
              "expenditure                           -0.007847   0.001288     -0.006006   \n",
              "months_on_network                      0.022509  -0.045471      0.008030   \n",
              "Num_complaints                         0.073773   0.053539      0.004960   \n",
              "number_plan_changes                    1.000000   0.595560      0.025379   \n",
              "relocated                              0.595560   1.000000      0.019341   \n",
              "monthly_bill                           0.025379   0.019341      1.000000   \n",
              "technical_issues_per_month             0.180283   0.113460      0.126871   \n",
              "Speed_test_result                     -0.009434   0.015136     -0.000345   \n",
              "\n",
              "                            technical_issues_per_month  Speed_test_result  \n",
              "active_cust                                  -0.260249           0.156385  \n",
              "income                                       -0.002584           0.010451  \n",
              "expenditure                                  -0.005726           0.015505  \n",
              "months_on_network                            -0.040707           0.020413  \n",
              "Num_complaints                                0.019577           0.004148  \n",
              "number_plan_changes                           0.180283          -0.009434  \n",
              "relocated                                     0.113460           0.015136  \n",
              "monthly_bill                                  0.126871          -0.000345  \n",
              "technical_issues_per_month                    1.000000          -0.054988  \n",
              "Speed_test_result                            -0.054988           1.000000  "
            ],
            "text/html": [
              "\n",
              "  <div id=\"df-88465a85-ce3f-415f-8869-34ec33a51e9f\">\n",
              "    <div class=\"colab-df-container\">\n",
              "      <div>\n",
              "<style scoped>\n",
              "    .dataframe tbody tr th:only-of-type {\n",
              "        vertical-align: middle;\n",
              "    }\n",
              "\n",
              "    .dataframe tbody tr th {\n",
              "        vertical-align: top;\n",
              "    }\n",
              "\n",
              "    .dataframe thead th {\n",
              "        text-align: right;\n",
              "    }\n",
              "</style>\n",
              "<table border=\"1\" class=\"dataframe\">\n",
              "  <thead>\n",
              "    <tr style=\"text-align: right;\">\n",
              "      <th></th>\n",
              "      <th>active_cust</th>\n",
              "      <th>income</th>\n",
              "      <th>expenditure</th>\n",
              "      <th>months_on_network</th>\n",
              "      <th>Num_complaints</th>\n",
              "      <th>number_plan_changes</th>\n",
              "      <th>relocated</th>\n",
              "      <th>monthly_bill</th>\n",
              "      <th>technical_issues_per_month</th>\n",
              "      <th>Speed_test_result</th>\n",
              "    </tr>\n",
              "  </thead>\n",
              "  <tbody>\n",
              "    <tr>\n",
              "      <th>active_cust</th>\n",
              "      <td>1.000000</td>\n",
              "      <td>0.001201</td>\n",
              "      <td>-0.003939</td>\n",
              "      <td>0.188113</td>\n",
              "      <td>-0.083481</td>\n",
              "      <td>-0.283100</td>\n",
              "      <td>-0.381069</td>\n",
              "      <td>-0.060156</td>\n",
              "      <td>-0.260249</td>\n",
              "      <td>0.156385</td>\n",
              "    </tr>\n",
              "    <tr>\n",
              "      <th>income</th>\n",
              "      <td>0.001201</td>\n",
              "      <td>1.000000</td>\n",
              "      <td>0.998436</td>\n",
              "      <td>-0.122607</td>\n",
              "      <td>0.003102</td>\n",
              "      <td>-0.003567</td>\n",
              "      <td>0.001924</td>\n",
              "      <td>-0.004715</td>\n",
              "      <td>-0.002584</td>\n",
              "      <td>0.010451</td>\n",
              "    </tr>\n",
              "    <tr>\n",
              "      <th>expenditure</th>\n",
              "      <td>-0.003939</td>\n",
              "      <td>0.998436</td>\n",
              "      <td>1.000000</td>\n",
              "      <td>-0.118989</td>\n",
              "      <td>0.000491</td>\n",
              "      <td>-0.007847</td>\n",
              "      <td>0.001288</td>\n",
              "      <td>-0.006006</td>\n",
              "      <td>-0.005726</td>\n",
              "      <td>0.015505</td>\n",
              "    </tr>\n",
              "    <tr>\n",
              "      <th>months_on_network</th>\n",
              "      <td>0.188113</td>\n",
              "      <td>-0.122607</td>\n",
              "      <td>-0.118989</td>\n",
              "      <td>1.000000</td>\n",
              "      <td>-0.081782</td>\n",
              "      <td>0.022509</td>\n",
              "      <td>-0.045471</td>\n",
              "      <td>0.008030</td>\n",
              "      <td>-0.040707</td>\n",
              "      <td>0.020413</td>\n",
              "    </tr>\n",
              "    <tr>\n",
              "      <th>Num_complaints</th>\n",
              "      <td>-0.083481</td>\n",
              "      <td>0.003102</td>\n",
              "      <td>0.000491</td>\n",
              "      <td>-0.081782</td>\n",
              "      <td>1.000000</td>\n",
              "      <td>0.073773</td>\n",
              "      <td>0.053539</td>\n",
              "      <td>0.004960</td>\n",
              "      <td>0.019577</td>\n",
              "      <td>0.004148</td>\n",
              "    </tr>\n",
              "    <tr>\n",
              "      <th>number_plan_changes</th>\n",
              "      <td>-0.283100</td>\n",
              "      <td>-0.003567</td>\n",
              "      <td>-0.007847</td>\n",
              "      <td>0.022509</td>\n",
              "      <td>0.073773</td>\n",
              "      <td>1.000000</td>\n",
              "      <td>0.595560</td>\n",
              "      <td>0.025379</td>\n",
              "      <td>0.180283</td>\n",
              "      <td>-0.009434</td>\n",
              "    </tr>\n",
              "    <tr>\n",
              "      <th>relocated</th>\n",
              "      <td>-0.381069</td>\n",
              "      <td>0.001924</td>\n",
              "      <td>0.001288</td>\n",
              "      <td>-0.045471</td>\n",
              "      <td>0.053539</td>\n",
              "      <td>0.595560</td>\n",
              "      <td>1.000000</td>\n",
              "      <td>0.019341</td>\n",
              "      <td>0.113460</td>\n",
              "      <td>0.015136</td>\n",
              "    </tr>\n",
              "    <tr>\n",
              "      <th>monthly_bill</th>\n",
              "      <td>-0.060156</td>\n",
              "      <td>-0.004715</td>\n",
              "      <td>-0.006006</td>\n",
              "      <td>0.008030</td>\n",
              "      <td>0.004960</td>\n",
              "      <td>0.025379</td>\n",
              "      <td>0.019341</td>\n",
              "      <td>1.000000</td>\n",
              "      <td>0.126871</td>\n",
              "      <td>-0.000345</td>\n",
              "    </tr>\n",
              "    <tr>\n",
              "      <th>technical_issues_per_month</th>\n",
              "      <td>-0.260249</td>\n",
              "      <td>-0.002584</td>\n",
              "      <td>-0.005726</td>\n",
              "      <td>-0.040707</td>\n",
              "      <td>0.019577</td>\n",
              "      <td>0.180283</td>\n",
              "      <td>0.113460</td>\n",
              "      <td>0.126871</td>\n",
              "      <td>1.000000</td>\n",
              "      <td>-0.054988</td>\n",
              "    </tr>\n",
              "    <tr>\n",
              "      <th>Speed_test_result</th>\n",
              "      <td>0.156385</td>\n",
              "      <td>0.010451</td>\n",
              "      <td>0.015505</td>\n",
              "      <td>0.020413</td>\n",
              "      <td>0.004148</td>\n",
              "      <td>-0.009434</td>\n",
              "      <td>0.015136</td>\n",
              "      <td>-0.000345</td>\n",
              "      <td>-0.054988</td>\n",
              "      <td>1.000000</td>\n",
              "    </tr>\n",
              "  </tbody>\n",
              "</table>\n",
              "</div>\n",
              "      <button class=\"colab-df-convert\" onclick=\"convertToInteractive('df-88465a85-ce3f-415f-8869-34ec33a51e9f')\"\n",
              "              title=\"Convert this dataframe to an interactive table.\"\n",
              "              style=\"display:none;\">\n",
              "        \n",
              "  <svg xmlns=\"http://www.w3.org/2000/svg\" height=\"24px\"viewBox=\"0 0 24 24\"\n",
              "       width=\"24px\">\n",
              "    <path d=\"M0 0h24v24H0V0z\" fill=\"none\"/>\n",
              "    <path d=\"M18.56 5.44l.94 2.06.94-2.06 2.06-.94-2.06-.94-.94-2.06-.94 2.06-2.06.94zm-11 1L8.5 8.5l.94-2.06 2.06-.94-2.06-.94L8.5 2.5l-.94 2.06-2.06.94zm10 10l.94 2.06.94-2.06 2.06-.94-2.06-.94-.94-2.06-.94 2.06-2.06.94z\"/><path d=\"M17.41 7.96l-1.37-1.37c-.4-.4-.92-.59-1.43-.59-.52 0-1.04.2-1.43.59L10.3 9.45l-7.72 7.72c-.78.78-.78 2.05 0 2.83L4 21.41c.39.39.9.59 1.41.59.51 0 1.02-.2 1.41-.59l7.78-7.78 2.81-2.81c.8-.78.8-2.07 0-2.86zM5.41 20L4 18.59l7.72-7.72 1.47 1.35L5.41 20z\"/>\n",
              "  </svg>\n",
              "      </button>\n",
              "      \n",
              "  <style>\n",
              "    .colab-df-container {\n",
              "      display:flex;\n",
              "      flex-wrap:wrap;\n",
              "      gap: 12px;\n",
              "    }\n",
              "\n",
              "    .colab-df-convert {\n",
              "      background-color: #E8F0FE;\n",
              "      border: none;\n",
              "      border-radius: 50%;\n",
              "      cursor: pointer;\n",
              "      display: none;\n",
              "      fill: #1967D2;\n",
              "      height: 32px;\n",
              "      padding: 0 0 0 0;\n",
              "      width: 32px;\n",
              "    }\n",
              "\n",
              "    .colab-df-convert:hover {\n",
              "      background-color: #E2EBFA;\n",
              "      box-shadow: 0px 1px 2px rgba(60, 64, 67, 0.3), 0px 1px 3px 1px rgba(60, 64, 67, 0.15);\n",
              "      fill: #174EA6;\n",
              "    }\n",
              "\n",
              "    [theme=dark] .colab-df-convert {\n",
              "      background-color: #3B4455;\n",
              "      fill: #D2E3FC;\n",
              "    }\n",
              "\n",
              "    [theme=dark] .colab-df-convert:hover {\n",
              "      background-color: #434B5C;\n",
              "      box-shadow: 0px 1px 3px 1px rgba(0, 0, 0, 0.15);\n",
              "      filter: drop-shadow(0px 1px 2px rgba(0, 0, 0, 0.3));\n",
              "      fill: #FFFFFF;\n",
              "    }\n",
              "  </style>\n",
              "\n",
              "      <script>\n",
              "        const buttonEl =\n",
              "          document.querySelector('#df-88465a85-ce3f-415f-8869-34ec33a51e9f button.colab-df-convert');\n",
              "        buttonEl.style.display =\n",
              "          google.colab.kernel.accessAllowed ? 'block' : 'none';\n",
              "\n",
              "        async function convertToInteractive(key) {\n",
              "          const element = document.querySelector('#df-88465a85-ce3f-415f-8869-34ec33a51e9f');\n",
              "          const dataTable =\n",
              "            await google.colab.kernel.invokeFunction('convertToInteractive',\n",
              "                                                     [key], {});\n",
              "          if (!dataTable) return;\n",
              "\n",
              "          const docLinkHtml = 'Like what you see? Visit the ' +\n",
              "            '<a target=\"_blank\" href=https://colab.research.google.com/notebooks/data_table.ipynb>data table notebook</a>'\n",
              "            + ' to learn more about interactive tables.';\n",
              "          element.innerHTML = '';\n",
              "          dataTable['output_type'] = 'display_data';\n",
              "          await google.colab.output.renderOutput(dataTable, element);\n",
              "          const docLink = document.createElement('div');\n",
              "          docLink.innerHTML = docLinkHtml;\n",
              "          element.appendChild(docLink);\n",
              "        }\n",
              "      </script>\n",
              "    </div>\n",
              "  </div>\n",
              "  "
            ]
          },
          "metadata": {},
          "execution_count": 9
        }
      ],
      "source": [
        "df_old = df\n",
        "df_old.corr()"
      ]
    },
    {
      "cell_type": "markdown",
      "metadata": {
        "id": "t8gPsoMHqzOx"
      },
      "source": [
        "# Drop the expenditure column as it is correlated to income"
      ]
    },
    {
      "cell_type": "code",
      "execution_count": 10,
      "metadata": {
        "id": "eh666kDGqzOy"
      },
      "outputs": [],
      "source": [
        "df = df.drop(columns=['expenditure'] ,axis=1)"
      ]
    },
    {
      "cell_type": "markdown",
      "metadata": {
        "id": "9cOenpKJqzOz"
      },
      "source": [
        "# Seperate categorical and numerical features"
      ]
    },
    {
      "cell_type": "code",
      "execution_count": 11,
      "metadata": {
        "id": "JRwid3e4qzOz"
      },
      "outputs": [],
      "source": [
        "categorical_features = [\n",
        "    \"Num_complaints\",\n",
        "    \"number_plan_changes\",\n",
        "    \"relocated\",\n",
        "    \"technical_issues_per_month\"    \n",
        "]\n",
        "numerical_features = [\"income\", \"months_on_network\", \"monthly_bill\" ,'Speed_test_result']\n",
        "target = \"active_cust\""
      ]
    },
    {
      "cell_type": "code",
      "source": [
        "df['monthly_bill'].unique()"
      ],
      "metadata": {
        "colab": {
          "base_uri": "https://localhost:8080/"
        },
        "id": "DgufvcbKGRa2",
        "outputId": "8c77a5fd-b7dc-495b-df80-84c286a8787d"
      },
      "execution_count": 12,
      "outputs": [
        {
          "output_type": "execute_result",
          "data": {
            "text/plain": [
              "array([121, 133, 118, 123, 177,  31, 126,  30,  49,  35,  34,  46,  37,\n",
              "        47,  78, 178, 125,  39,  40,  42,  43,  81,  33,  82, 130,  85,\n",
              "        93,  89,  32,  48,  44,  45, 128, 165, 164, 163, 158, 166, 175,\n",
              "       171, 169,  36,  76, 174,  50, 180, 132,  80,  86,  87,  94,  88,\n",
              "        92,  38,  52,  79, 131, 119, 179, 168, 167, 170, 161,  51, 136,\n",
              "       138, 127, 120, 122, 137, 134, 129,  41,  90,  73,  77,  83, 176,\n",
              "       172,  84,  95, 124, 173, 162,  91,  75, 117, 181, 135, 159, 115,\n",
              "       160, 116,  53,  74])"
            ]
          },
          "metadata": {},
          "execution_count": 12
        }
      ]
    },
    {
      "cell_type": "code",
      "execution_count": 13,
      "metadata": {
        "colab": {
          "base_uri": "https://localhost:8080/",
          "height": 691
        },
        "id": "R5Tb9Ye5qzO0",
        "outputId": "193c416a-739f-44e6-88b8-108fd170b3ef"
      },
      "outputs": [
        {
          "output_type": "execute_result",
          "data": {
            "text/plain": [
              "array([[<Axes: title={'center': 'income'}>,\n",
              "        <Axes: title={'center': 'months_on_network'}>],\n",
              "       [<Axes: title={'center': 'monthly_bill'}>,\n",
              "        <Axes: title={'center': 'Speed_test_result'}>]], dtype=object)"
            ]
          },
          "metadata": {},
          "execution_count": 13
        },
        {
          "output_type": "display_data",
          "data": {
            "text/plain": [
              "<Figure size 1000x700 with 4 Axes>"
            ],
            "image/png": "[encoded data removed]"
          },
          "metadata": {}
        }
      ],
      "source": [
        "numerical_features = ['income' , 'months_on_network','monthly_bill','Speed_test_result']\n",
        "df[numerical_features].hist(bins=10, figsize=(10, 7))"
      ]
    },
    {
      "cell_type": "code",
      "source": [
        "df['income'].max()"
      ],
      "metadata": {
        "colab": {
          "base_uri": "https://localhost:8080/"
        },
        "id": "B6s4U8ROIxex",
        "outputId": "89601249-4aa0-4922-859d-0ea78f657605"
      },
      "execution_count": 14,
      "outputs": [
        {
          "output_type": "execute_result",
          "data": {
            "text/plain": [
              "229821"
            ]
          },
          "metadata": {},
          "execution_count": 14
        }
      ]
    },
    {
      "cell_type": "code",
      "execution_count": 15,
      "metadata": {
        "colab": {
          "base_uri": "https://localhost:8080/",
          "height": 460
        },
        "id": "YXrbMjhqqzO1",
        "outputId": "bdaa4812-9aff-4b54-eaa4-efd5fd10c391"
      },
      "outputs": [
        {
          "output_type": "execute_result",
          "data": {
            "text/plain": [
              "array([<Axes: title={'center': 'income'}>,\n",
              "       <Axes: title={'center': 'months_on_network'}>,\n",
              "       <Axes: title={'center': 'monthly_bill'}>,\n",
              "       <Axes: title={'center': 'Speed_test_result'}>], dtype=object)"
            ]
          },
          "metadata": {},
          "execution_count": 15
        },
        {
          "output_type": "display_data",
          "data": {
            "text/plain": [
              "<Figure size 1400x400 with 4 Axes>"
            ],
            "image/png": "[encoded data removed]"
          },
          "metadata": {}
        }
      ],
      "source": [
        "fig, ax = plt.subplots(1, 4, figsize=(14, 4))\n",
        "df[df.active_cust == 1][numerical_features].hist(bins=10, color=\"green\", alpha=0.5, ax=ax) #activecust\n",
        "df[df.active_cust == 0][numerical_features].hist(bins=10, color=\"blue\", alpha=0.5, ax=ax) #lef\n"
      ]
    },
    {
      "cell_type": "code",
      "execution_count": 16,
      "metadata": {
        "colab": {
          "base_uri": "https://localhost:8080/",
          "height": 402
        },
        "id": "L1zgQbx1qzO2",
        "outputId": "96f949c4-93b6-4ef4-b242-86d09c1061c3"
      },
      "outputs": [
        {
          "output_type": "execute_result",
          "data": {
            "text/plain": [
              "Text(0.5, 1.0, 'not attirated')"
            ]
          },
          "metadata": {},
          "execution_count": 16
        },
        {
          "output_type": "display_data",
          "data": {
            "text/plain": [
              "<Figure size 1400x400 with 2 Axes>"
            ],
            "image/png": "[encoded data removed]"
          },
          "metadata": {}
        }
      ],
      "source": [
        "feature = 'technical_issues_per_month'\n",
        "fig, ax = plt.subplots(1, 2, figsize=(14, 4))\n",
        "df[df.active_cust == 0][feature].value_counts().plot(kind='bar', ax=ax[0]).set_title('attirated')\n",
        "df[df.active_cust == 1][feature].value_counts().plot(kind='bar', ax=ax[1]).set_title('not attirated')\n"
      ]
    },
    {
      "cell_type": "code",
      "execution_count": 17,
      "metadata": {
        "colab": {
          "base_uri": "https://localhost:8080/",
          "height": 464
        },
        "id": "o_WnuK_dqzO3",
        "outputId": "03380def-f502-402c-b2c5-66f3a7fc1df0"
      },
      "outputs": [
        {
          "output_type": "execute_result",
          "data": {
            "text/plain": [
              "Text(0.5, 1.0, 'attrition')"
            ]
          },
          "metadata": {},
          "execution_count": 17
        },
        {
          "output_type": "display_data",
          "data": {
            "text/plain": [
              "<Figure size 640x480 with 1 Axes>"
            ],
            "image/png": "[encoded data removed]"
          },
          "metadata": {}
        }
      ],
      "source": [
        "df['active_cust'].value_counts().plot(kind='bar').set_title('attrition')\n"
      ]
    },
    {
      "cell_type": "markdown",
      "metadata": {
        "id": "QS4mxI-JqzO5"
      },
      "source": [
        "# Define Inter Quartile range function to get the upper and lower boundaries to remove the outliers from continuous variables"
      ]
    },
    {
      "cell_type": "code",
      "execution_count": 18,
      "metadata": {
        "id": "J6kz22rhqzO5"
      },
      "outputs": [],
      "source": [
        "def iqr(data):\n",
        "    s = pd.Series(data)\n",
        "    s.sort_values(ascending=True)\n",
        "    Q1,Q3 =  np.percentile(s , [25,75])\n",
        "    IQR = Q3-Q1\n",
        "    lower_range = Q1 - (1.5*IQR)\n",
        "    upper_range = Q3 + (1.5*IQR)     \n",
        "    return lower_range , upper_range"
      ]
    },
    {
      "cell_type": "markdown",
      "metadata": {
        "id": "Df2owP1dqzO6"
      },
      "source": [
        "# Define function for binning"
      ]
    },
    {
      "cell_type": "code",
      "execution_count": 19,
      "metadata": {
        "id": "rMnOnholqzO7"
      },
      "outputs": [],
      "source": [
        "def cont_categorical(cont_data, qc ):\n",
        "    return pd.qcut(cont_data,q=qc,labels=False,precision=0 ,duplicates='drop')"
      ]
    },
    {
      "cell_type": "markdown",
      "metadata": {
        "id": "znHkbsehqzO7"
      },
      "source": [
        "   # Remove Outliers using IQR function correct the outliers with the upper and lower range"
      ]
    },
    {
      "cell_type": "code",
      "execution_count": 20,
      "metadata": {
        "id": "0B2EbFAOqzO8"
      },
      "outputs": [],
      "source": [
        "lr ,ur = iqr(df['income'])\n",
        "lr = round(lr)\n",
        "ur = round(ur)\n",
        "df.loc[df['income'] <lr, 'income'] = lr\n",
        "df.loc[df['income'] >ur, 'income'] = ur\n",
        "\n",
        "lr ,ur = iqr(df['months_on_network'])\n",
        "lr = round(lr)\n",
        "ur = round(ur)\n",
        "df.loc[df['months_on_network'] <lr, 'months_on_network'] = lr\n",
        "df.loc[df['months_on_network'] >ur, 'months_on_network'] = ur\n",
        "\n",
        "# Monthly bill field has no outliers and hence we are not applying the IQR function on it.\n",
        "#lr ,ur = iqr(df['monthly_bill'])\n",
        "#lr = round(lr)\n",
        "#ur = round(ur)\n",
        "#df.loc[df['monthly_bill'] <lr, 'monthly_bill'] = lr\n",
        "#df.loc[df['monthly_bill'] >ur, 'monthly_bill'] = ur\n",
        "\n",
        "\n",
        "lr ,ur = iqr(df['Speed_test_result'])\n",
        "lr = round(lr)\n",
        "ur = round(ur)\n",
        "df.loc[df['Speed_test_result'] <lr, 'Speed_test_result'] = lr\n",
        "df.loc[df['Speed_test_result'] >ur, 'Speed_test_result'] = ur"
      ]
    },
    {
      "cell_type": "markdown",
      "metadata": {
        "id": "zHduLpj5qzO8"
      },
      "source": [
        "# Plot the features after removing the outliers"
      ]
    },
    {
      "cell_type": "code",
      "execution_count": 21,
      "metadata": {
        "colab": {
          "base_uri": "https://localhost:8080/",
          "height": 545
        },
        "id": "Zl03V9GoqzO9",
        "outputId": "e6c55764-b469-441f-c3e5-979c8ca24cda"
      },
      "outputs": [
        {
          "output_type": "display_data",
          "data": {
            "text/plain": [
              "<Figure size 3000x600 with 4 Axes>"
            ],
            "image/png": "[encoded data removed]"
          },
          "metadata": {}
        }
      ],
      "source": [
        "plt.figure(figsize=(30,6))\n",
        "\n",
        "plt.subplot(1, 6, 1)\n",
        "plt.title('income')\n",
        "sns.boxplot(df['income'],orient='vertical',color='blue')\n",
        "\n",
        "# subplot 2\n",
        "plt.subplot(1, 6, 2)\n",
        "plt.title('months_on_network')\n",
        "sns.boxplot(df['months_on_network'],orient='vertical',color='blue')\n",
        "\n",
        "# subplot 3\n",
        "plt.subplot(1, 6, 3)\n",
        "plt.title('monthly_bill')\n",
        "sns.boxplot(df['monthly_bill'],orient='vertical',color='blue')\n",
        "\n",
        "# subplot 4\n",
        "plt.subplot(1, 6, 4)\n",
        "plt.title('Speed_test_result')\n",
        "sns.boxplot(df['Speed_test_result'],orient='vertical',color='blue')\n",
        "\n",
        "plt.show()"
      ]
    },
    {
      "cell_type": "code",
      "execution_count": 22,
      "metadata": {
        "colab": {
          "base_uri": "https://localhost:8080/"
        },
        "id": "RXhGYr6tqzO9",
        "outputId": "06fb4dcc-c162-4f9f-a11c-cca1223d9dbb"
      },
      "outputs": [
        {
          "output_type": "execute_result",
          "data": {
            "text/plain": [
              "1    0.57859\n",
              "0    0.42141\n",
              "Name: active_cust, dtype: float64"
            ]
          },
          "metadata": {},
          "execution_count": 22
        }
      ],
      "source": [
        "df['active_cust'].value_counts(normalize=True)"
      ]
    },
    {
      "cell_type": "code",
      "execution_count": 23,
      "metadata": {
        "colab": {
          "base_uri": "https://localhost:8080/",
          "height": 143
        },
        "id": "18Qz7u_kqzO-",
        "outputId": "473c5505-e746-4eda-8dc7-a588ccc26af9"
      },
      "outputs": [
        {
          "output_type": "execute_result",
          "data": {
            "text/plain": [
              "                  income  months_on_network  Num_complaints  \\\n",
              "active_cust                                                   \n",
              "0            1848.784296          53.985335        4.040744   \n",
              "1            1783.700358          61.088353        3.992516   \n",
              "\n",
              "             number_plan_changes  relocated  monthly_bill  \\\n",
              "active_cust                                                 \n",
              "0                       1.921834   0.270378     99.352199   \n",
              "1                       0.994711   0.016488     93.241224   \n",
              "\n",
              "             technical_issues_per_month  Speed_test_result  \n",
              "active_cust                                                 \n",
              "0                              3.695309          79.766854  \n",
              "1                              3.040996          82.497779  "
            ],
            "text/html": [
              "\n",
              "  <div id=\"df-6841a3e6-f59e-45fe-a7b7-6249e420c9fd\">\n",
              "    <div class=\"colab-df-container\">\n",
              "      <div>\n",
              "<style scoped>\n",
              "    .dataframe tbody tr th:only-of-type {\n",
              "        vertical-align: middle;\n",
              "    }\n",
              "\n",
              "    .dataframe tbody tr th {\n",
              "        vertical-align: top;\n",
              "    }\n",
              "\n",
              "    .dataframe thead th {\n",
              "        text-align: right;\n",
              "    }\n",
              "</style>\n",
              "<table border=\"1\" class=\"dataframe\">\n",
              "  <thead>\n",
              "    <tr style=\"text-align: right;\">\n",
              "      <th></th>\n",
              "      <th>income</th>\n",
              "      <th>months_on_network</th>\n",
              "      <th>Num_complaints</th>\n",
              "      <th>number_plan_changes</th>\n",
              "      <th>relocated</th>\n",
              "      <th>monthly_bill</th>\n",
              "      <th>technical_issues_per_month</th>\n",
              "      <th>Speed_test_result</th>\n",
              "    </tr>\n",
              "    <tr>\n",
              "      <th>active_cust</th>\n",
              "      <th></th>\n",
              "      <th></th>\n",
              "      <th></th>\n",
              "      <th></th>\n",
              "      <th></th>\n",
              "      <th></th>\n",
              "      <th></th>\n",
              "      <th></th>\n",
              "    </tr>\n",
              "  </thead>\n",
              "  <tbody>\n",
              "    <tr>\n",
              "      <th>0</th>\n",
              "      <td>1848.784296</td>\n",
              "      <td>53.985335</td>\n",
              "      <td>4.040744</td>\n",
              "      <td>1.921834</td>\n",
              "      <td>0.270378</td>\n",
              "      <td>99.352199</td>\n",
              "      <td>3.695309</td>\n",
              "      <td>79.766854</td>\n",
              "    </tr>\n",
              "    <tr>\n",
              "      <th>1</th>\n",
              "      <td>1783.700358</td>\n",
              "      <td>61.088353</td>\n",
              "      <td>3.992516</td>\n",
              "      <td>0.994711</td>\n",
              "      <td>0.016488</td>\n",
              "      <td>93.241224</td>\n",
              "      <td>3.040996</td>\n",
              "      <td>82.497779</td>\n",
              "    </tr>\n",
              "  </tbody>\n",
              "</table>\n",
              "</div>\n",
              "      <button class=\"colab-df-convert\" onclick=\"convertToInteractive('df-6841a3e6-f59e-45fe-a7b7-6249e420c9fd')\"\n",
              "              title=\"Convert this dataframe to an interactive table.\"\n",
              "              style=\"display:none;\">\n",
              "        \n",
              "  <svg xmlns=\"http://www.w3.org/2000/svg\" height=\"24px\"viewBox=\"0 0 24 24\"\n",
              "       width=\"24px\">\n",
              "    <path d=\"M0 0h24v24H0V0z\" fill=\"none\"/>\n",
              "    <path d=\"M18.56 5.44l.94 2.06.94-2.06 2.06-.94-2.06-.94-.94-2.06-.94 2.06-2.06.94zm-11 1L8.5 8.5l.94-2.06 2.06-.94-2.06-.94L8.5 2.5l-.94 2.06-2.06.94zm10 10l.94 2.06.94-2.06 2.06-.94-2.06-.94-.94-2.06-.94 2.06-2.06.94z\"/><path d=\"M17.41 7.96l-1.37-1.37c-.4-.4-.92-.59-1.43-.59-.52 0-1.04.2-1.43.59L10.3 9.45l-7.72 7.72c-.78.78-.78 2.05 0 2.83L4 21.41c.39.39.9.59 1.41.59.51 0 1.02-.2 1.41-.59l7.78-7.78 2.81-2.81c.8-.78.8-2.07 0-2.86zM5.41 20L4 18.59l7.72-7.72 1.47 1.35L5.41 20z\"/>\n",
              "  </svg>\n",
              "      </button>\n",
              "      \n",
              "  <style>\n",
              "    .colab-df-container {\n",
              "      display:flex;\n",
              "      flex-wrap:wrap;\n",
              "      gap: 12px;\n",
              "    }\n",
              "\n",
              "    .colab-df-convert {\n",
              "      background-color: #E8F0FE;\n",
              "      border: none;\n",
              "      border-radius: 50%;\n",
              "      cursor: pointer;\n",
              "      display: none;\n",
              "      fill: #1967D2;\n",
              "      height: 32px;\n",
              "      padding: 0 0 0 0;\n",
              "      width: 32px;\n",
              "    }\n",
              "\n",
              "    .colab-df-convert:hover {\n",
              "      background-color: #E2EBFA;\n",
              "      box-shadow: 0px 1px 2px rgba(60, 64, 67, 0.3), 0px 1px 3px 1px rgba(60, 64, 67, 0.15);\n",
              "      fill: #174EA6;\n",
              "    }\n",
              "\n",
              "    [theme=dark] .colab-df-convert {\n",
              "      background-color: #3B4455;\n",
              "      fill: #D2E3FC;\n",
              "    }\n",
              "\n",
              "    [theme=dark] .colab-df-convert:hover {\n",
              "      background-color: #434B5C;\n",
              "      box-shadow: 0px 1px 3px 1px rgba(0, 0, 0, 0.15);\n",
              "      filter: drop-shadow(0px 1px 2px rgba(0, 0, 0, 0.3));\n",
              "      fill: #FFFFFF;\n",
              "    }\n",
              "  </style>\n",
              "\n",
              "      <script>\n",
              "        const buttonEl =\n",
              "          document.querySelector('#df-6841a3e6-f59e-45fe-a7b7-6249e420c9fd button.colab-df-convert');\n",
              "        buttonEl.style.display =\n",
              "          google.colab.kernel.accessAllowed ? 'block' : 'none';\n",
              "\n",
              "        async function convertToInteractive(key) {\n",
              "          const element = document.querySelector('#df-6841a3e6-f59e-45fe-a7b7-6249e420c9fd');\n",
              "          const dataTable =\n",
              "            await google.colab.kernel.invokeFunction('convertToInteractive',\n",
              "                                                     [key], {});\n",
              "          if (!dataTable) return;\n",
              "\n",
              "          const docLinkHtml = 'Like what you see? Visit the ' +\n",
              "            '<a target=\"_blank\" href=https://colab.research.google.com/notebooks/data_table.ipynb>data table notebook</a>'\n",
              "            + ' to learn more about interactive tables.';\n",
              "          element.innerHTML = '';\n",
              "          dataTable['output_type'] = 'display_data';\n",
              "          await google.colab.output.renderOutput(dataTable, element);\n",
              "          const docLink = document.createElement('div');\n",
              "          docLink.innerHTML = docLinkHtml;\n",
              "          element.appendChild(docLink);\n",
              "        }\n",
              "      </script>\n",
              "    </div>\n",
              "  </div>\n",
              "  "
            ]
          },
          "metadata": {},
          "execution_count": 23
        }
      ],
      "source": [
        "df.groupby('active_cust').mean()"
      ]
    },
    {
      "cell_type": "markdown",
      "metadata": {
        "id": "wSOuEYhWqzO_"
      },
      "source": [
        "# Descretization of numerical /continuous data using binning method"
      ]
    },
    {
      "cell_type": "code",
      "execution_count": 24,
      "metadata": {
        "id": "ND5cosKkqzO_"
      },
      "outputs": [],
      "source": [
        "\n",
        "col='income'\n",
        "bins = 200\n",
        "ns_income= cont_categorical(df[col] , bins)\n",
        "df.update(ns_income)\n",
        "\n",
        "\n",
        "col='months_on_network'\n",
        "ns_mon= cont_categorical(df[col] , bins)\n",
        "df.update(ns_mon)\n",
        "\n",
        "col='monthly_bill'\n",
        "ns_mb= cont_categorical(df[col] , bins)\n",
        "df.update(ns_mb)\n",
        "\n",
        "col='Speed_test_result'\n",
        "ns_sr= cont_categorical(df[col] , bins)\n",
        "df.update(ns_sr)"
      ]
    },
    {
      "cell_type": "markdown",
      "metadata": {
        "id": "0d3K3LgJqzO_"
      },
      "source": [
        "# Checking infogain for each categorical variable against target"
      ]
    },
    {
      "cell_type": "code",
      "source": [
        "!pip install info_gain"
      ],
      "metadata": {
        "colab": {
          "base_uri": "https://localhost:8080/"
        },
        "id": "GBGJuGmkeN4J",
        "outputId": "1b32e884-83a2-42c0-a90b-d76f90bd3812"
      },
      "execution_count": 25,
      "outputs": [
        {
          "output_type": "stream",
          "name": "stdout",
          "text": [
            "Looking in indexes: https://pypi.org/simple, https://us-python.pkg.dev/colab-wheels/public/simple/\n",
            "Collecting info_gain\n",
            "  Downloading info_gain-1.0.1-py3-none-any.whl (3.3 kB)\n",
            "Installing collected packages: info_gain\n",
            "Successfully installed info_gain-1.0.1\n"
          ]
        }
      ]
    },
    {
      "cell_type": "code",
      "execution_count": 26,
      "metadata": {
        "colab": {
          "base_uri": "https://localhost:8080/"
        },
        "id": "ILFFt1OzqzPA",
        "outputId": "faf90eee-600d-4db6-d541-c2328fe7907e"
      },
      "outputs": [
        {
          "output_type": "stream",
          "name": "stdout",
          "text": [
            "Num_complaints\n",
            "0.003699089346618001 0.48374652938141627 0.007646751184650682\n",
            "number_plan_changes\n",
            "0.08371723308619516 2.2017702303334974 0.03802269280092623\n",
            "relocated\n",
            "0.07922880598719828 0.5392819729489944 0.14691536146470038\n",
            "technical_issues_per_month\n",
            "0.04061955002002704 1.073202963464318 0.037848898486924056\n"
          ]
        }
      ],
      "source": [
        "from info_gain import info_gain\n",
        "for cat in categorical_features:\n",
        "    print(cat)\n",
        "    ig  = info_gain.info_gain(df[target], df[cat])\n",
        "    iv  = info_gain.intrinsic_value(df[target], df[cat])\n",
        "    igr = info_gain.info_gain_ratio(df[target], df[cat])\n",
        "    print(ig, iv, igr)"
      ]
    },
    {
      "cell_type": "code",
      "execution_count": 27,
      "metadata": {
        "id": "9BwYti34qzPA",
        "colab": {
          "base_uri": "https://localhost:8080/"
        },
        "outputId": "d12e291a-8ad9-4ca7-b864-226846f0ad42"
      },
      "outputs": [
        {
          "output_type": "stream",
          "name": "stdout",
          "text": [
            "Label encoder Num_complaints - values: [3, 4, 5, 6]\n",
            "Label encoder number_plan_changes - values: [0, 1, 2, 3, 4, 5, 6, 7, 8, 9]\n",
            "Label encoder relocated - values: [0, 1]\n",
            "Label encoder technical_issues_per_month - values: [1, 2, 3, 4, 7]\n",
            "Label encoder active_cust - values: [0, 1]\n"
          ]
        }
      ],
      "source": [
        "from sklearn.preprocessing import LabelEncoder\n",
        "\n",
        "categorical_feature_names = []\n",
        "label_encoders = {}\n",
        "for categorical in categorical_features + [target]:\n",
        "    label_encoders[categorical] = LabelEncoder()\n",
        "    df[categorical] = label_encoders[categorical].fit_transform(df[categorical])\n",
        "    names = label_encoders[categorical].classes_.tolist()\n",
        "    print('Label encoder %s - values: %s' % (categorical, names))\n",
        "    if categorical == target:\n",
        "        continue\n",
        "    categorical_feature_names.extend([categorical + '_' + str(name) for name in names])"
      ]
    },
    {
      "cell_type": "code",
      "execution_count": 28,
      "metadata": {
        "id": "fk9O8q1XqzPB"
      },
      "outputs": [],
      "source": [
        "from sklearn.pipeline import FeatureUnion, Pipeline\n",
        "from sklearn.preprocessing import StandardScaler\n",
        "from sklearn.preprocessing import OneHotEncoder\n",
        "from sklearn import tree\n",
        "from sklearn.base import BaseEstimator, TransformerMixin\n",
        "from sklearn.linear_model import LogisticRegression\n",
        "from sklearn.preprocessing import StandardScaler\n",
        "from sklearn.metrics import accuracy_score,classification_report,confusion_matrix\n",
        "from sklearn.model_selection import train_test_split\n",
        "from sklearn.model_selection import GridSearchCV,RandomizedSearchCV,KFold, cross_val_score,cross_val_predict\n",
        "from xgboost import XGBClassifier\n",
        "\n",
        "\n",
        "class ItemSelector(BaseEstimator, TransformerMixin):\n",
        "    def __init__(self, key):\n",
        "        self.key = key\n",
        "\n",
        "    def fit(self, x, y=None):\n",
        "        return self\n",
        "\n",
        "    def transform(self, df):\n",
        "        return df[self.key]"
      ]
    },
    {
      "cell_type": "code",
      "execution_count": 29,
      "metadata": {
        "id": "JHqeHQAuqzPC"
      },
      "outputs": [],
      "source": [
        "pipeline = Pipeline(\n",
        "    [\n",
        "        (\n",
        "            \"union\",\n",
        "            FeatureUnion(\n",
        "                transformer_list=[\n",
        "                    (\n",
        "                        \"categorical_features\",\n",
        "                        Pipeline(\n",
        "                            [\n",
        "                                (\"selector\", ItemSelector(key=categorical_features)),\n",
        "                                (\"onehot\", OneHotEncoder())\n",
        "                            ]\n",
        "                        ),\n",
        "                    )\n",
        "                ]\n",
        "                + [\n",
        "                    (\n",
        "                        \"numerical_features\",\n",
        "                        Pipeline(\n",
        "                            [\n",
        "                                (\"selector\", ItemSelector(key=numerical_features)),\n",
        "                                (\"scalar\", StandardScaler()),\n",
        "                            ]\n",
        "                        ),\n",
        "                    )\n",
        "                ]\n",
        "            ),\n",
        "        ),\n",
        "        (\"classifier\", XGBClassifier(learning_rate =0.1,n_estimators=1000, max_depth=5, min_child_weight=1, gamma=0, subsample=0.8, colsample_bytree=0.8, objective= 'binary:logistic', nthread=4, scale_pos_weight=1, seed=27)),\n",
        "    ]\n",
        ")"
      ]
    },
    {
      "cell_type": "markdown",
      "source": [
        "**Run XGB with pipeline technique**"
      ],
      "metadata": {
        "id": "zX-qe9nckSBk"
      }
    },
    {
      "cell_type": "code",
      "execution_count": 30,
      "metadata": {
        "id": "5__LjUPlqzPD"
      },
      "outputs": [],
      "source": [
        "from sklearn.model_selection import train_test_split\n",
        "\n",
        "df_train, df_test = train_test_split(df, test_size=0.20, random_state=42)\n",
        "\n",
        "pipeline.fit(df_train, df_train[target])\n",
        "pred = pipeline.predict(df_test)"
      ]
    },
    {
      "cell_type": "code",
      "execution_count": 31,
      "metadata": {
        "id": "Ifq5rSnEqzPD",
        "colab": {
          "base_uri": "https://localhost:8080/"
        },
        "outputId": "2705d47f-03a2-4ac0-df98-5345d709f817"
      },
      "outputs": [
        {
          "output_type": "stream",
          "name": "stdout",
          "text": [
            "              precision    recall  f1-score   support\n",
            "\n",
            "           0       0.89      0.83      0.86      8418\n",
            "           1       0.88      0.93      0.91     11582\n",
            "\n",
            "    accuracy                           0.89     20000\n",
            "   macro avg       0.89      0.88      0.88     20000\n",
            "weighted avg       0.89      0.89      0.89     20000\n",
            "\n"
          ]
        }
      ],
      "source": [
        "from sklearn.metrics import classification_report\n",
        "print(classification_report(df_test[target], pred))"
      ]
    },
    {
      "cell_type": "code",
      "execution_count": 32,
      "metadata": {
        "id": "sBzIRhcwqzPE",
        "colab": {
          "base_uri": "https://localhost:8080/"
        },
        "outputId": "e82452cb-4c74-49b1-e2bf-f4e850554927"
      },
      "outputs": [
        {
          "output_type": "stream",
          "name": "stdout",
          "text": [
            "active_cust                   100000\n",
            "income                        100000\n",
            "months_on_network             100000\n",
            "Num_complaints                100000\n",
            "number_plan_changes           100000\n",
            "relocated                     100000\n",
            "monthly_bill                  100000\n",
            "technical_issues_per_month    100000\n",
            "Speed_test_result             100000\n",
            "dtype: int64\n"
          ]
        }
      ],
      "source": [
        "from sklearn.preprocessing import StandardScaler\n",
        "scaler = StandardScaler()\n",
        "print ( df.count())"
      ]
    },
    {
      "cell_type": "markdown",
      "metadata": {
        "id": "rBPrzKCGqzPE"
      },
      "source": [
        "# Create the target and features seperately"
      ]
    },
    {
      "cell_type": "code",
      "execution_count": 33,
      "metadata": {
        "id": "ho3addP_qzPF"
      },
      "outputs": [],
      "source": [
        "target=df[['active_cust']]\n",
        "features=df.drop('active_cust',axis=1)"
      ]
    },
    {
      "cell_type": "code",
      "execution_count": 34,
      "metadata": {
        "id": "JWe012fEqzPF",
        "colab": {
          "base_uri": "https://localhost:8080/",
          "height": 424
        },
        "outputId": "cfa34cf3-7b6a-425d-d53e-5a0837806e30"
      },
      "outputs": [
        {
          "output_type": "execute_result",
          "data": {
            "text/plain": [
              "       income  months_on_network  Num_complaints  number_plan_changes  \\\n",
              "0          12                 57               1                    1   \n",
              "1          10                 57               1                    1   \n",
              "2          15                 54               1                    1   \n",
              "3          15                 54               1                    1   \n",
              "4          21                 52               1                    1   \n",
              "...       ...                ...             ...                  ...   \n",
              "99995      49                 43               1                    2   \n",
              "99996      46                 43               1                    2   \n",
              "99997      48                 43               1                    2   \n",
              "99998      55                 41               1                    2   \n",
              "99999      56                 41               1                    2   \n",
              "\n",
              "       relocated  monthly_bill  technical_issues_per_month  Speed_test_result  \n",
              "0              0            52                           3                 11  \n",
              "1              0            64                           3                 11  \n",
              "2              0            49                           3                 11  \n",
              "3              0            54                           3                 11  \n",
              "4              0            89                           3                 11  \n",
              "...          ...           ...                         ...                ...  \n",
              "99995          0            15                           3                 12  \n",
              "99996          0            16                           3                 12  \n",
              "99997          0             5                           3                 12  \n",
              "99998          0            16                           3                 12  \n",
              "99999          0             2                           3                 12  \n",
              "\n",
              "[100000 rows x 8 columns]"
            ],
            "text/html": [
              "\n",
              "  <div id=\"df-0286406f-06e3-466c-9084-490c0f220df4\">\n",
              "    <div class=\"colab-df-container\">\n",
              "      <div>\n",
              "<style scoped>\n",
              "    .dataframe tbody tr th:only-of-type {\n",
              "        vertical-align: middle;\n",
              "    }\n",
              "\n",
              "    .dataframe tbody tr th {\n",
              "        vertical-align: top;\n",
              "    }\n",
              "\n",
              "    .dataframe thead th {\n",
              "        text-align: right;\n",
              "    }\n",
              "</style>\n",
              "<table border=\"1\" class=\"dataframe\">\n",
              "  <thead>\n",
              "    <tr style=\"text-align: right;\">\n",
              "      <th></th>\n",
              "      <th>income</th>\n",
              "      <th>months_on_network</th>\n",
              "      <th>Num_complaints</th>\n",
              "      <th>number_plan_changes</th>\n",
              "      <th>relocated</th>\n",
              "      <th>monthly_bill</th>\n",
              "      <th>technical_issues_per_month</th>\n",
              "      <th>Speed_test_result</th>\n",
              "    </tr>\n",
              "  </thead>\n",
              "  <tbody>\n",
              "    <tr>\n",
              "      <th>0</th>\n",
              "      <td>12</td>\n",
              "      <td>57</td>\n",
              "      <td>1</td>\n",
              "      <td>1</td>\n",
              "      <td>0</td>\n",
              "      <td>52</td>\n",
              "      <td>3</td>\n",
              "      <td>11</td>\n",
              "    </tr>\n",
              "    <tr>\n",
              "      <th>1</th>\n",
              "      <td>10</td>\n",
              "      <td>57</td>\n",
              "      <td>1</td>\n",
              "      <td>1</td>\n",
              "      <td>0</td>\n",
              "      <td>64</td>\n",
              "      <td>3</td>\n",
              "      <td>11</td>\n",
              "    </tr>\n",
              "    <tr>\n",
              "      <th>2</th>\n",
              "      <td>15</td>\n",
              "      <td>54</td>\n",
              "      <td>1</td>\n",
              "      <td>1</td>\n",
              "      <td>0</td>\n",
              "      <td>49</td>\n",
              "      <td>3</td>\n",
              "      <td>11</td>\n",
              "    </tr>\n",
              "    <tr>\n",
              "      <th>3</th>\n",
              "      <td>15</td>\n",
              "      <td>54</td>\n",
              "      <td>1</td>\n",
              "      <td>1</td>\n",
              "      <td>0</td>\n",
              "      <td>54</td>\n",
              "      <td>3</td>\n",
              "      <td>11</td>\n",
              "    </tr>\n",
              "    <tr>\n",
              "      <th>4</th>\n",
              "      <td>21</td>\n",
              "      <td>52</td>\n",
              "      <td>1</td>\n",
              "      <td>1</td>\n",
              "      <td>0</td>\n",
              "      <td>89</td>\n",
              "      <td>3</td>\n",
              "      <td>11</td>\n",
              "    </tr>\n",
              "    <tr>\n",
              "      <th>...</th>\n",
              "      <td>...</td>\n",
              "      <td>...</td>\n",
              "      <td>...</td>\n",
              "      <td>...</td>\n",
              "      <td>...</td>\n",
              "      <td>...</td>\n",
              "      <td>...</td>\n",
              "      <td>...</td>\n",
              "    </tr>\n",
              "    <tr>\n",
              "      <th>99995</th>\n",
              "      <td>49</td>\n",
              "      <td>43</td>\n",
              "      <td>1</td>\n",
              "      <td>2</td>\n",
              "      <td>0</td>\n",
              "      <td>15</td>\n",
              "      <td>3</td>\n",
              "      <td>12</td>\n",
              "    </tr>\n",
              "    <tr>\n",
              "      <th>99996</th>\n",
              "      <td>46</td>\n",
              "      <td>43</td>\n",
              "      <td>1</td>\n",
              "      <td>2</td>\n",
              "      <td>0</td>\n",
              "      <td>16</td>\n",
              "      <td>3</td>\n",
              "      <td>12</td>\n",
              "    </tr>\n",
              "    <tr>\n",
              "      <th>99997</th>\n",
              "      <td>48</td>\n",
              "      <td>43</td>\n",
              "      <td>1</td>\n",
              "      <td>2</td>\n",
              "      <td>0</td>\n",
              "      <td>5</td>\n",
              "      <td>3</td>\n",
              "      <td>12</td>\n",
              "    </tr>\n",
              "    <tr>\n",
              "      <th>99998</th>\n",
              "      <td>55</td>\n",
              "      <td>41</td>\n",
              "      <td>1</td>\n",
              "      <td>2</td>\n",
              "      <td>0</td>\n",
              "      <td>16</td>\n",
              "      <td>3</td>\n",
              "      <td>12</td>\n",
              "    </tr>\n",
              "    <tr>\n",
              "      <th>99999</th>\n",
              "      <td>56</td>\n",
              "      <td>41</td>\n",
              "      <td>1</td>\n",
              "      <td>2</td>\n",
              "      <td>0</td>\n",
              "      <td>2</td>\n",
              "      <td>3</td>\n",
              "      <td>12</td>\n",
              "    </tr>\n",
              "  </tbody>\n",
              "</table>\n",
              "<p>100000 rows × 8 columns</p>\n",
              "</div>\n",
              "      <button class=\"colab-df-convert\" onclick=\"convertToInteractive('df-0286406f-06e3-466c-9084-490c0f220df4')\"\n",
              "              title=\"Convert this dataframe to an interactive table.\"\n",
              "              style=\"display:none;\">\n",
              "        \n",
              "  <svg xmlns=\"http://www.w3.org/2000/svg\" height=\"24px\"viewBox=\"0 0 24 24\"\n",
              "       width=\"24px\">\n",
              "    <path d=\"M0 0h24v24H0V0z\" fill=\"none\"/>\n",
              "    <path d=\"M18.56 5.44l.94 2.06.94-2.06 2.06-.94-2.06-.94-.94-2.06-.94 2.06-2.06.94zm-11 1L8.5 8.5l.94-2.06 2.06-.94-2.06-.94L8.5 2.5l-.94 2.06-2.06.94zm10 10l.94 2.06.94-2.06 2.06-.94-2.06-.94-.94-2.06-.94 2.06-2.06.94z\"/><path d=\"M17.41 7.96l-1.37-1.37c-.4-.4-.92-.59-1.43-.59-.52 0-1.04.2-1.43.59L10.3 9.45l-7.72 7.72c-.78.78-.78 2.05 0 2.83L4 21.41c.39.39.9.59 1.41.59.51 0 1.02-.2 1.41-.59l7.78-7.78 2.81-2.81c.8-.78.8-2.07 0-2.86zM5.41 20L4 18.59l7.72-7.72 1.47 1.35L5.41 20z\"/>\n",
              "  </svg>\n",
              "      </button>\n",
              "      \n",
              "  <style>\n",
              "    .colab-df-container {\n",
              "      display:flex;\n",
              "      flex-wrap:wrap;\n",
              "      gap: 12px;\n",
              "    }\n",
              "\n",
              "    .colab-df-convert {\n",
              "      background-color: #E8F0FE;\n",
              "      border: none;\n",
              "      border-radius: 50%;\n",
              "      cursor: pointer;\n",
              "      display: none;\n",
              "      fill: #1967D2;\n",
              "      height: 32px;\n",
              "      padding: 0 0 0 0;\n",
              "      width: 32px;\n",
              "    }\n",
              "\n",
              "    .colab-df-convert:hover {\n",
              "      background-color: #E2EBFA;\n",
              "      box-shadow: 0px 1px 2px rgba(60, 64, 67, 0.3), 0px 1px 3px 1px rgba(60, 64, 67, 0.15);\n",
              "      fill: #174EA6;\n",
              "    }\n",
              "\n",
              "    [theme=dark] .colab-df-convert {\n",
              "      background-color: #3B4455;\n",
              "      fill: #D2E3FC;\n",
              "    }\n",
              "\n",
              "    [theme=dark] .colab-df-convert:hover {\n",
              "      background-color: #434B5C;\n",
              "      box-shadow: 0px 1px 3px 1px rgba(0, 0, 0, 0.15);\n",
              "      filter: drop-shadow(0px 1px 2px rgba(0, 0, 0, 0.3));\n",
              "      fill: #FFFFFF;\n",
              "    }\n",
              "  </style>\n",
              "\n",
              "      <script>\n",
              "        const buttonEl =\n",
              "          document.querySelector('#df-0286406f-06e3-466c-9084-490c0f220df4 button.colab-df-convert');\n",
              "        buttonEl.style.display =\n",
              "          google.colab.kernel.accessAllowed ? 'block' : 'none';\n",
              "\n",
              "        async function convertToInteractive(key) {\n",
              "          const element = document.querySelector('#df-0286406f-06e3-466c-9084-490c0f220df4');\n",
              "          const dataTable =\n",
              "            await google.colab.kernel.invokeFunction('convertToInteractive',\n",
              "                                                     [key], {});\n",
              "          if (!dataTable) return;\n",
              "\n",
              "          const docLinkHtml = 'Like what you see? Visit the ' +\n",
              "            '<a target=\"_blank\" href=https://colab.research.google.com/notebooks/data_table.ipynb>data table notebook</a>'\n",
              "            + ' to learn more about interactive tables.';\n",
              "          element.innerHTML = '';\n",
              "          dataTable['output_type'] = 'display_data';\n",
              "          await google.colab.output.renderOutput(dataTable, element);\n",
              "          const docLink = document.createElement('div');\n",
              "          docLink.innerHTML = docLinkHtml;\n",
              "          element.appendChild(docLink);\n",
              "        }\n",
              "      </script>\n",
              "    </div>\n",
              "  </div>\n",
              "  "
            ]
          },
          "metadata": {},
          "execution_count": 34
        }
      ],
      "source": [
        "features"
      ]
    },
    {
      "cell_type": "markdown",
      "source": [
        "**Run the data with XGB with out piplelining**"
      ],
      "metadata": {
        "id": "3w3gvmBFkNyq"
      }
    },
    {
      "cell_type": "code",
      "execution_count": 35,
      "metadata": {
        "id": "_2YGmDlMqzPF"
      },
      "outputs": [],
      "source": [
        "from sklearn.metrics import accuracy_score,classification_report,confusion_matrix\n",
        "from sklearn.model_selection import train_test_split\n",
        "from sklearn.model_selection import GridSearchCV,RandomizedSearchCV,KFold, cross_val_score,cross_val_predict\n",
        "from xgboost import XGBClassifier"
      ]
    },
    {
      "cell_type": "code",
      "execution_count": 41,
      "metadata": {
        "id": "ddmks8FkqzPG"
      },
      "outputs": [],
      "source": [
        "X,X_test,y,y_test =train_test_split(features,target,test_size=0.2,random_state=42)\n",
        "X.shape,y.shape,X_test.shape,y_test.shape\n",
        "XGB=XGBClassifier(learning_rate =0.1,n_estimators=1000, max_depth=5, min_child_weight=1, gamma=0, subsample=0.8, colsample_bytree=0.8, objective= 'binary:logistic', nthread=4, scale_pos_weight=1, seed=27)\n",
        "XGmodel=XGB.fit(X,y)"
      ]
    },
    {
      "cell_type": "code",
      "execution_count": 42,
      "metadata": {
        "id": "AYLHAAJxqzPG",
        "colab": {
          "base_uri": "https://localhost:8080/"
        },
        "outputId": "cbe71c94-0726-47ee-8026-1ba50a0f8ba7"
      },
      "outputs": [
        {
          "output_type": "stream",
          "name": "stdout",
          "text": [
            "              precision    recall  f1-score   support\n",
            "\n",
            "           0       0.90      0.83      0.86      8418\n",
            "           1       0.88      0.93      0.90     11582\n",
            "\n",
            "    accuracy                           0.89     20000\n",
            "   macro avg       0.89      0.88      0.88     20000\n",
            "weighted avg       0.89      0.89      0.89     20000\n",
            "\n"
          ]
        }
      ],
      "source": [
        "pred=XGmodel.predict(X_test)\n",
        "confusion_matrix(y_test,pred)\n",
        "print(classification_report(y_test,pred))"
      ]
    },
    {
      "cell_type": "markdown",
      "source": [
        "**Logistic Regression**"
      ],
      "metadata": {
        "id": "VsKYYAIkjuKc"
      }
    },
    {
      "cell_type": "code",
      "execution_count": 43,
      "metadata": {
        "id": "61YePWzhqzPH",
        "colab": {
          "base_uri": "https://localhost:8080/"
        },
        "outputId": "5cd700bb-97cc-4bf5-ab98-f992c8edefb8"
      },
      "outputs": [
        {
          "output_type": "stream",
          "name": "stderr",
          "text": [
            "/usr/local/lib/python3.10/dist-packages/sklearn/utils/validation.py:1143: DataConversionWarning: A column-vector y was passed when a 1d array was expected. Please change the shape of y to (n_samples, ), for example using ravel().\n",
            "  y = column_or_1d(y, warn=True)\n",
            "/usr/local/lib/python3.10/dist-packages/sklearn/linear_model/_logistic.py:458: ConvergenceWarning: lbfgs failed to converge (status=1):\n",
            "STOP: TOTAL NO. of ITERATIONS REACHED LIMIT.\n",
            "\n",
            "Increase the number of iterations (max_iter) or scale the data as shown in:\n",
            "    https://scikit-learn.org/stable/modules/preprocessing.html\n",
            "Please also refer to the documentation for alternative solver options:\n",
            "    https://scikit-learn.org/stable/modules/linear_model.html#logistic-regression\n",
            "  n_iter_i = _check_optimize_result(\n"
          ]
        }
      ],
      "source": [
        "from sklearn.linear_model import LogisticRegression\n",
        "logmodel = LogisticRegression()\n",
        "logmodel.fit(X,y)\n",
        "pred = logmodel.predict(X_test)"
      ]
    },
    {
      "cell_type": "code",
      "execution_count": 44,
      "metadata": {
        "id": "Gneb9JBdqzPH",
        "colab": {
          "base_uri": "https://localhost:8080/"
        },
        "outputId": "6f5845e6-99cf-46fe-9931-2547c2c5dc13"
      },
      "outputs": [
        {
          "output_type": "stream",
          "name": "stdout",
          "text": [
            "              precision    recall  f1-score   support\n",
            "\n",
            "           0       0.73      0.71      0.72      8418\n",
            "           1       0.79      0.81      0.80     11582\n",
            "\n",
            "    accuracy                           0.76     20000\n",
            "   macro avg       0.76      0.76      0.76     20000\n",
            "weighted avg       0.76      0.76      0.76     20000\n",
            "\n"
          ]
        }
      ],
      "source": [
        "confusion_matrix(y_test,pred)\n",
        "print(classification_report(y_test,pred))"
      ]
    },
    {
      "cell_type": "markdown",
      "source": [
        "**RandomForest Classifier**"
      ],
      "metadata": {
        "id": "mCchCoewjmbO"
      }
    },
    {
      "cell_type": "code",
      "execution_count": 45,
      "metadata": {
        "id": "CCTJYmTcqzPI",
        "colab": {
          "base_uri": "https://localhost:8080/"
        },
        "outputId": "bb42d94e-d9c5-4789-be16-be048db86a87"
      },
      "outputs": [
        {
          "output_type": "stream",
          "name": "stderr",
          "text": [
            "<ipython-input-45-9a1d78d86fd2>:4: DataConversionWarning: A column-vector y was passed when a 1d array was expected. Please change the shape of y to (n_samples,), for example using ravel().\n",
            "  clf.fit(X,y)\n"
          ]
        },
        {
          "output_type": "stream",
          "name": "stdout",
          "text": [
            "              precision    recall  f1-score   support\n",
            "\n",
            "           0       0.87      0.84      0.85      8418\n",
            "           1       0.88      0.91      0.90     11582\n",
            "\n",
            "    accuracy                           0.88     20000\n",
            "   macro avg       0.88      0.87      0.87     20000\n",
            "weighted avg       0.88      0.88      0.88     20000\n",
            "\n"
          ]
        }
      ],
      "source": [
        "from sklearn.ensemble import RandomForestClassifier\n",
        "\n",
        "clf=RandomForestClassifier(n_estimators=1000)\n",
        "clf.fit(X,y)\n",
        "pred=clf.predict(X_test)\n",
        "confusion_matrix(y_test,pred)\n",
        "print(classification_report(y_test,pred))"
      ]
    },
    {
      "cell_type": "markdown",
      "source": [
        "**LSTM MODEL**"
      ],
      "metadata": {
        "id": "Wubne5J_jco5"
      }
    },
    {
      "cell_type": "code",
      "source": [
        "from keras.models import Sequential\n",
        "from keras.layers import Dense, LSTM\n",
        "import numpy as np\n",
        "\n",
        "# Split the data into training and testing sets\n",
        "X,X_test,y,y_test =train_test_split(features,target,test_size=0.2,random_state=42)\n",
        "\n",
        "# Convert dataframes to numpy arrays\n",
        "X = np.array(X)\n",
        "y = np.array(y)\n",
        "X_test = np.array(X_test)\n",
        "y_test = np.array(y_test)\n",
        "\n",
        "# Define the shape of the input data\n",
        "n_features = X.shape[1]\n",
        "n_steps = 1\n",
        "\n",
        "# Reshape the input data for LSTM model\n",
        "X = X.reshape((X.shape[0], n_steps, n_features))\n",
        "X_test = X_test.reshape((X_test.shape[0], n_steps, n_features))\n",
        "\n",
        "# Define the LSTM model\n",
        "model = Sequential()\n",
        "model.add(LSTM(64, activation='relu', input_shape=(n_steps, n_features)))\n",
        "model.add(Dense(1, activation='sigmoid'))\n",
        "\n",
        "# Compile the model\n",
        "model.compile(optimizer='adam', loss='binary_crossentropy', metrics=['accuracy'])\n",
        "\n",
        "# Train the model\n",
        "history = model.fit(X, y, epochs=10, batch_size=64, validation_split=0.2)\n",
        "\n",
        "# Evaluate the model on the test data\n",
        "score = model.evaluate(X_test, y_test, verbose=0)\n",
        "print('Test loss:', score[0])\n",
        "print('Test accuracy:', score[1])\n"
      ],
      "metadata": {
        "colab": {
          "base_uri": "https://localhost:8080/"
        },
        "id": "b1ui1l-PalS0",
        "outputId": "ea745feb-8e73-48e4-9a23-634ed2d8aa58"
      },
      "execution_count": 49,
      "outputs": [
        {
          "output_type": "stream",
          "name": "stderr",
          "text": [
            "WARNING:tensorflow:Layer lstm_2 will not use cuDNN kernels since it doesn't meet the criteria. It will use a generic GPU kernel as fallback when running on GPU.\n"
          ]
        },
        {
          "output_type": "stream",
          "name": "stdout",
          "text": [
            "Epoch 1/10\n",
            "1000/1000 [==============================] - 12s 7ms/step - loss: 0.5267 - accuracy: 0.7382 - val_loss: 0.4608 - val_accuracy: 0.7800\n",
            "Epoch 2/10\n",
            "1000/1000 [==============================] - 6s 6ms/step - loss: 0.4517 - accuracy: 0.7844 - val_loss: 0.4455 - val_accuracy: 0.7919\n",
            "Epoch 3/10\n",
            "1000/1000 [==============================] - 4s 4ms/step - loss: 0.4336 - accuracy: 0.7990 - val_loss: 0.4413 - val_accuracy: 0.8000\n",
            "Epoch 4/10\n",
            "1000/1000 [==============================] - 9s 9ms/step - loss: 0.4251 - accuracy: 0.8060 - val_loss: 0.4269 - val_accuracy: 0.8073\n",
            "Epoch 5/10\n",
            "1000/1000 [==============================] - 7s 7ms/step - loss: 0.4218 - accuracy: 0.8066 - val_loss: 0.4276 - val_accuracy: 0.8031\n",
            "Epoch 6/10\n",
            "1000/1000 [==============================] - 5s 5ms/step - loss: 0.4178 - accuracy: 0.8087 - val_loss: 0.4285 - val_accuracy: 0.8034\n",
            "Epoch 7/10\n",
            "1000/1000 [==============================] - 4s 4ms/step - loss: 0.4119 - accuracy: 0.8137 - val_loss: 0.4097 - val_accuracy: 0.8212\n",
            "Epoch 8/10\n",
            "1000/1000 [==============================] - 4s 4ms/step - loss: 0.4041 - accuracy: 0.8207 - val_loss: 0.4115 - val_accuracy: 0.8248\n",
            "Epoch 9/10\n",
            "1000/1000 [==============================] - 5s 5ms/step - loss: 0.3978 - accuracy: 0.8250 - val_loss: 0.4006 - val_accuracy: 0.8280\n",
            "Epoch 10/10\n",
            "1000/1000 [==============================] - 4s 4ms/step - loss: 0.3882 - accuracy: 0.8332 - val_loss: 0.3898 - val_accuracy: 0.8332\n",
            "Test loss: 0.38363295793533325\n",
            "Test accuracy: 0.8323000073432922\n"
          ]
        }
      ]
    },
    {
      "cell_type": "code",
      "source": [
        "from sklearn.metrics import classification_report\n",
        "\n",
        "# Predict on the test data\n",
        "y_pred = model.predict(X_test)\n",
        "y_pred = [1 if pred > 0.5 else 0 for pred in y_pred]\n",
        "\n",
        "# Print classification report\n",
        "print(classification_report(y_test, y_pred))\n"
      ],
      "metadata": {
        "colab": {
          "base_uri": "https://localhost:8080/"
        },
        "id": "J2uCrvlub2Z7",
        "outputId": "01a4361f-5215-49af-e65f-2511d02ec549"
      },
      "execution_count": 51,
      "outputs": [
        {
          "output_type": "stream",
          "name": "stdout",
          "text": [
            "625/625 [==============================] - 2s 3ms/step\n",
            "              precision    recall  f1-score   support\n",
            "\n",
            "           0       0.86      0.72      0.78      8418\n",
            "           1       0.82      0.91      0.86     11582\n",
            "\n",
            "    accuracy                           0.83     20000\n",
            "   macro avg       0.84      0.82      0.82     20000\n",
            "weighted avg       0.83      0.83      0.83     20000\n",
            "\n"
          ]
        }
      ]
    },
    {
      "cell_type": "markdown",
      "source": [
        "**GRU MODEL**"
      ],
      "metadata": {
        "id": "rpS77voSjYKV"
      }
    },
    {
      "cell_type": "code",
      "source": [
        "from keras.models import Sequential\n",
        "from keras.layers import Dense, GRU\n",
        "import numpy as np\n",
        "\n",
        "# Split the data into training and testing sets\n",
        "X,X_test,y,y_test =train_test_split(features,target,test_size=0.2,random_state=42)\n",
        "\n",
        "# Convert dataframes to numpy arrays\n",
        "X = np.array(X)\n",
        "y = np.array(y)\n",
        "X_test = np.array(X_test)\n",
        "y_test = np.array(y_test)\n",
        "\n",
        "# Define the shape of the input data\n",
        "n_features = X.shape[1]\n",
        "n_steps = 1\n",
        "\n",
        "# Reshape the input data for GRU model\n",
        "X = X.reshape((X.shape[0], n_steps, n_features))\n",
        "X_test = X_test.reshape((X_test.shape[0], n_steps, n_features))\n",
        "\n",
        "# Define the GRU model\n",
        "model = Sequential()\n",
        "model.add(GRU(64, activation='relu', input_shape=(n_steps, n_features)))\n",
        "model.add(Dense(1, activation='sigmoid'))\n",
        "\n",
        "# Compile the model\n",
        "model.compile(optimizer='adam', loss='binary_crossentropy', metrics=['accuracy'])\n",
        "\n",
        "# Train the model\n",
        "history = model.fit(X, y, epochs=10, batch_size=64, validation_split=0.2)\n",
        "\n",
        "# Evaluate the model on the test data\n",
        "score = model.evaluate(X_test, y_test, verbose=0)\n",
        "print('Test loss:', score[0])\n",
        "print('Test accuracy:', score[1])\n"
      ],
      "metadata": {
        "colab": {
          "base_uri": "https://localhost:8080/"
        },
        "id": "v9uBpxXegedW",
        "outputId": "1506cd6b-75c1-4197-913d-1ac10dc69523"
      },
      "execution_count": 52,
      "outputs": [
        {
          "output_type": "stream",
          "name": "stderr",
          "text": [
            "WARNING:tensorflow:Layer gru will not use cuDNN kernels since it doesn't meet the criteria. It will use a generic GPU kernel as fallback when running on GPU.\n"
          ]
        },
        {
          "output_type": "stream",
          "name": "stdout",
          "text": [
            "Epoch 1/10\n",
            "1000/1000 [==============================] - 8s 5ms/step - loss: 0.5844 - accuracy: 0.7413 - val_loss: 0.4814 - val_accuracy: 0.7666\n",
            "Epoch 2/10\n",
            "1000/1000 [==============================] - 4s 4ms/step - loss: 0.4602 - accuracy: 0.7816 - val_loss: 0.4511 - val_accuracy: 0.7904\n",
            "Epoch 3/10\n",
            "1000/1000 [==============================] - 4s 4ms/step - loss: 0.4371 - accuracy: 0.7964 - val_loss: 0.4324 - val_accuracy: 0.7944\n",
            "Epoch 4/10\n",
            "1000/1000 [==============================] - 5s 5ms/step - loss: 0.4291 - accuracy: 0.8019 - val_loss: 0.4384 - val_accuracy: 0.7962\n",
            "Epoch 5/10\n",
            "1000/1000 [==============================] - 4s 4ms/step - loss: 0.4224 - accuracy: 0.8065 - val_loss: 0.4269 - val_accuracy: 0.8037\n",
            "Epoch 6/10\n",
            "1000/1000 [==============================] - 5s 5ms/step - loss: 0.4173 - accuracy: 0.8101 - val_loss: 0.4334 - val_accuracy: 0.8024\n",
            "Epoch 7/10\n",
            "1000/1000 [==============================] - 4s 4ms/step - loss: 0.4122 - accuracy: 0.8141 - val_loss: 0.4305 - val_accuracy: 0.7926\n",
            "Epoch 8/10\n",
            "1000/1000 [==============================] - 4s 4ms/step - loss: 0.4094 - accuracy: 0.8169 - val_loss: 0.4092 - val_accuracy: 0.8199\n",
            "Epoch 9/10\n",
            "1000/1000 [==============================] - 5s 5ms/step - loss: 0.4046 - accuracy: 0.8209 - val_loss: 0.4034 - val_accuracy: 0.8266\n",
            "Epoch 10/10\n",
            "1000/1000 [==============================] - 4s 4ms/step - loss: 0.3996 - accuracy: 0.8244 - val_loss: 0.4097 - val_accuracy: 0.8234\n",
            "Test loss: 0.4052310585975647\n",
            "Test accuracy: 0.8238499760627747\n"
          ]
        }
      ]
    },
    {
      "cell_type": "code",
      "source": [
        "from sklearn.metrics import classification_report\n",
        "\n",
        "# Predict on the test data\n",
        "y_pred = model.predict(X_test)\n",
        "y_pred = np.round(y_pred)\n",
        "\n",
        "# Print classification report\n",
        "print(classification_report(y_test, y_pred))\n"
      ],
      "metadata": {
        "colab": {
          "base_uri": "https://localhost:8080/"
        },
        "id": "NuDCiqD0hREx",
        "outputId": "0130b24b-e78b-4d2e-9850-fa9034d06442"
      },
      "execution_count": 53,
      "outputs": [
        {
          "output_type": "stream",
          "name": "stdout",
          "text": [
            "625/625 [==============================] - 1s 2ms/step\n",
            "              precision    recall  f1-score   support\n",
            "\n",
            "           0       0.89      0.66      0.76      8418\n",
            "           1       0.79      0.94      0.86     11582\n",
            "\n",
            "    accuracy                           0.82     20000\n",
            "   macro avg       0.84      0.80      0.81     20000\n",
            "weighted avg       0.83      0.82      0.82     20000\n",
            "\n"
          ]
        }
      ]
    },
    {
      "cell_type": "markdown",
      "source": [
        "**RNN**"
      ],
      "metadata": {
        "id": "81cQQHyCmUKl"
      }
    },
    {
      "cell_type": "code",
      "source": [
        "from keras.models import Sequential\n",
        "from keras.layers import Dense, SimpleRNN\n",
        "import numpy as np\n",
        "\n",
        "# Split the data into training and testing sets\n",
        "X,X_test,y,y_test =train_test_split(features,target,test_size=0.2,random_state=42)\n",
        "\n",
        "# Convert dataframes to numpy arrays\n",
        "X = np.array(X)\n",
        "y = np.array(y)\n",
        "X_test = np.array(X_test)\n",
        "y_test = np.array(y_test)\n",
        "\n",
        "# Define the shape of the input data\n",
        "n_features = X.shape[1]\n",
        "n_steps = 1\n",
        "\n",
        "# Reshape the input data for RNN model\n",
        "X = X.reshape((X.shape[0], n_steps, n_features))\n",
        "X_test = X_test.reshape((X_test.shape[0], n_steps, n_features))\n",
        "\n",
        "# Define the RNN model\n",
        "model = Sequential()\n",
        "model.add(SimpleRNN(64, activation='relu', input_shape=(n_steps, n_features)))\n",
        "model.add(Dense(1, activation='sigmoid'))\n",
        "\n",
        "# Compile the model\n",
        "model.compile(optimizer='adam', loss='binary_crossentropy', metrics=['accuracy'])\n",
        "\n",
        "# Train the model\n",
        "history = model.fit(X, y, epochs=10, batch_size=64, validation_split=0.2)\n",
        "\n",
        "# Evaluate the model on the test data\n",
        "score = model.evaluate(X_test, y_test, verbose=0)\n",
        "print('Test loss:', score[0])\n",
        "print('Test accuracy:', score[1])\n"
      ],
      "metadata": {
        "colab": {
          "base_uri": "https://localhost:8080/"
        },
        "id": "bxOHymOrl00a",
        "outputId": "076527c3-120f-4255-f9d7-909c89ada54e"
      },
      "execution_count": 55,
      "outputs": [
        {
          "output_type": "stream",
          "name": "stdout",
          "text": [
            "Epoch 1/10\n",
            "1000/1000 [==============================] - 6s 4ms/step - loss: 0.5318 - accuracy: 0.7415 - val_loss: 0.5284 - val_accuracy: 0.7388\n",
            "Epoch 2/10\n",
            "1000/1000 [==============================] - 4s 4ms/step - loss: 0.4795 - accuracy: 0.7680 - val_loss: 0.4860 - val_accuracy: 0.7593\n",
            "Epoch 3/10\n",
            "1000/1000 [==============================] - 5s 5ms/step - loss: 0.4738 - accuracy: 0.7744 - val_loss: 0.4593 - val_accuracy: 0.7894\n",
            "Epoch 4/10\n",
            "1000/1000 [==============================] - 4s 4ms/step - loss: 0.4650 - accuracy: 0.7789 - val_loss: 0.5005 - val_accuracy: 0.7598\n",
            "Epoch 5/10\n",
            "1000/1000 [==============================] - 4s 4ms/step - loss: 0.4595 - accuracy: 0.7831 - val_loss: 0.4603 - val_accuracy: 0.7800\n",
            "Epoch 6/10\n",
            "1000/1000 [==============================] - 5s 5ms/step - loss: 0.4470 - accuracy: 0.7925 - val_loss: 0.4553 - val_accuracy: 0.7949\n",
            "Epoch 7/10\n",
            "1000/1000 [==============================] - 4s 4ms/step - loss: 0.4417 - accuracy: 0.7936 - val_loss: 0.4778 - val_accuracy: 0.7796\n",
            "Epoch 8/10\n",
            "1000/1000 [==============================] - 4s 4ms/step - loss: 0.4399 - accuracy: 0.7942 - val_loss: 0.4550 - val_accuracy: 0.7906\n",
            "Epoch 9/10\n",
            "1000/1000 [==============================] - 5s 5ms/step - loss: 0.4366 - accuracy: 0.7981 - val_loss: 0.4688 - val_accuracy: 0.7794\n",
            "Epoch 10/10\n",
            "1000/1000 [==============================] - 4s 4ms/step - loss: 0.4361 - accuracy: 0.7987 - val_loss: 0.4347 - val_accuracy: 0.8012\n",
            "Test loss: 0.433152437210083\n",
            "Test accuracy: 0.7996000051498413\n"
          ]
        }
      ]
    },
    {
      "cell_type": "code",
      "source": [
        "from sklearn.metrics import classification_report\n",
        "\n",
        "# Predict on the test data\n",
        "y_pred = model.predict(X_test)\n",
        "\n",
        "# Convert the predictions to binary values\n",
        "y_pred = np.round(y_pred)\n",
        "\n",
        "# Print the classification report\n",
        "print(classification_report(y_test, y_pred))\n"
      ],
      "metadata": {
        "colab": {
          "base_uri": "https://localhost:8080/"
        },
        "id": "FkdyeqoDmOpu",
        "outputId": "2ba35fa8-d103-460d-c7c6-90466b33080e"
      },
      "execution_count": 56,
      "outputs": [
        {
          "output_type": "stream",
          "name": "stdout",
          "text": [
            "625/625 [==============================] - 1s 2ms/step\n",
            "              precision    recall  f1-score   support\n",
            "\n",
            "           0       0.86      0.63      0.73      8418\n",
            "           1       0.77      0.92      0.84     11582\n",
            "\n",
            "    accuracy                           0.80     20000\n",
            "   macro avg       0.82      0.78      0.78     20000\n",
            "weighted avg       0.81      0.80      0.79     20000\n",
            "\n"
          ]
        }
      ]
    }
  ],
  "metadata": {
    "kernelspec": {
      "display_name": "Python 3",
      "language": "python",
      "name": "python3"
    },
    "language_info": {
      "codemirror_mode": {
        "name": "ipython",
        "version": 3
      },
      "file_extension": ".py",
      "mimetype": "text/x-python",
      "name": "python",
      "nbconvert_exporter": "python",
      "pygments_lexer": "ipython3",
      "version": "3.7.4"
    },
    "colab": {
      "provenance": [],
      "gpuType": "T4"
    },
    "accelerator": "GPU",
    "gpuClass": "standard"
  },
  "nbformat": 4,
  "nbformat_minor": 0
}